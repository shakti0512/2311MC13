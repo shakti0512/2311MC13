{
  "nbformat": 4,
  "nbformat_minor": 0,
  "metadata": {
    "colab": {
      "provenance": [],
      "gpuType": "T4",
      "authorship_tag": "ABX9TyOOu4Gv9Ma2apX52Fhdb1CL",
      "include_colab_link": true
    },
    "kernelspec": {
      "name": "python3",
      "display_name": "Python 3"
    },
    "language_info": {
      "name": "python"
    },
    "accelerator": "GPU"
  },
  "cells": [
    {
      "cell_type": "markdown",
      "metadata": {
        "id": "view-in-github",
        "colab_type": "text"
      },
      "source": [
        "<a href=\"https://colab.research.google.com/github/shakti0512/2311MC13_Shakti_Singh/blob/main/Untitled25.ipynb\" target=\"_parent\"><img src=\"https://colab.research.google.com/assets/colab-badge.svg\" alt=\"Open In Colab\"/></a>"
      ]
    },
    {
      "cell_type": "code",
      "execution_count": 2,
      "metadata": {
        "colab": {
          "base_uri": "https://localhost:8080/"
        },
        "id": "UNlWSTv3SKny",
        "outputId": "4b2b349b-d709-4f01-cedb-e532947fad7d"
      },
      "outputs": [
        {
          "output_type": "stream",
          "name": "stdout",
          "text": [
            "Requirement already satisfied: pandas in /usr/local/lib/python3.10/dist-packages (2.0.3)\n",
            "Requirement already satisfied: python-dateutil>=2.8.2 in /usr/local/lib/python3.10/dist-packages (from pandas) (2.8.2)\n",
            "Requirement already satisfied: pytz>=2020.1 in /usr/local/lib/python3.10/dist-packages (from pandas) (2023.4)\n",
            "Requirement already satisfied: tzdata>=2022.1 in /usr/local/lib/python3.10/dist-packages (from pandas) (2024.1)\n",
            "Requirement already satisfied: numpy>=1.21.0 in /usr/local/lib/python3.10/dist-packages (from pandas) (1.25.2)\n",
            "Requirement already satisfied: six>=1.5 in /usr/local/lib/python3.10/dist-packages (from python-dateutil>=2.8.2->pandas) (1.16.0)\n"
          ]
        }
      ],
      "source": [
        "pip install pandas"
      ]
    },
    {
      "cell_type": "code",
      "source": [],
      "metadata": {
        "id": "cJCd4fADSO9T"
      },
      "execution_count": null,
      "outputs": []
    },
    {
      "cell_type": "code",
      "source": [
        "import pandas as pd\n",
        "\n",
        "# Load the TSV file into a DataFrame\n",
        "input_file = '/content/Snopes.test.tsv'  # Replace with your input file path\n",
        "df = pd.read_csv(input_file, sep='\\t')\n",
        "\n",
        "# Specify the columns you want to extract\n",
        "columns_to_extract = ['DocText', 'DocImages', 'Label']  # Replace with your column names\n",
        "extracted_df = df[columns_to_extract]\n",
        "\n",
        "# Ensure that the 'label' column exists in the DataFrame\n",
        "if 'Label' not in extracted_df.columns:\n",
        "    raise ValueError(\"The specified 'Label' column does not exist in the DataFrame\")\n",
        "\n",
        "# Separate the DataFrame into two based on the label\n",
        "df_label_0 = extracted_df[extracted_df['Label'] == 0]\n",
        "df_label_1 = extracted_df[extracted_df['Label'] == 1]\n",
        "\n",
        "# Randomly sample 150 rows from each DataFrame\n",
        "df_label_0_sample = df_label_0.sample(n=150, random_state=1)\n",
        "df_label_1_sample = df_label_1.sample(n=150, random_state=1)\n",
        "\n",
        "# Concatenate the two samples into one DataFrame\n",
        "final_df = pd.concat([df_label_0_sample, df_label_1_sample])\n",
        "\n",
        "# Optionally shuffle the final DataFrame\n",
        "final_df = final_df.sample(frac=1, random_state=1).reset_index(drop=True)\n",
        "\n",
        "# Save the final DataFrame to a new TSV file\n",
        "output_file = 'D:\\MTECH course\\sem 3\\Shakti_MTP\\Ragvendra sir\\Fake News adam sir MTP\\data_set\\SC1\\SC1_snopes\\50_candidates_bm25_extended_reranking\\output_file.tsv'  # Replace with your desired output file path\n",
        "final_df.to_csv(output_file, sep='\\t', index=False)\n",
        "\n",
        "print(f\"Extracted columns and sampled rows saved to {output_file}\")\n"
      ],
      "metadata": {
        "colab": {
          "base_uri": "https://localhost:8080/"
        },
        "id": "VGCTSEwfPvQB",
        "outputId": "cf4f164b-8c64-41ed-9cda-64b3370e26f7"
      },
      "execution_count": 3,
      "outputs": [
        {
          "output_type": "stream",
          "name": "stdout",
          "text": [
            "Extracted columns and sampled rows saved to D:\\MTECH course\\sem 3\\Shakti_MTP\\Ragvendra sir\\Fake News adam sir MTP\\data_set\\SC1\\SC1_snopes(_candidates_bm25_extended_reranking\\output_file.tsv\n"
          ]
        }
      ]
    }
  ]
}