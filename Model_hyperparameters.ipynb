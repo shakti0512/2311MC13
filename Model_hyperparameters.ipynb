{
  "nbformat": 4,
  "nbformat_minor": 0,
  "metadata": {
    "colab": {
      "provenance": [],
      "authorship_tag": "ABX9TyNZ8TfXn0AssWpFWfYU0JV0",
      "include_colab_link": true
    },
    "kernelspec": {
      "name": "python3",
      "display_name": "Python 3"
    },
    "language_info": {
      "name": "python"
    }
  },
  "cells": [
    {
      "cell_type": "markdown",
      "metadata": {
        "id": "view-in-github",
        "colab_type": "text"
      },
      "source": [
        "<a href=\"https://colab.research.google.com/github/shakti0512/2311MC13_Shakti_Singh/blob/main/Model_hyperparameters.ipynb\" target=\"_parent\"><img src=\"https://colab.research.google.com/assets/colab-badge.svg\" alt=\"Open In Colab\"/></a>"
      ]
    },
    {
      "cell_type": "code",
      "execution_count": 1,
      "metadata": {
        "id": "ivbBO-bSr6b9"
      },
      "outputs": [],
      "source": [
        "import numpy as np\n",
        "import pandas as pd"
      ]
    },
    {
      "cell_type": "code",
      "source": [
        "df = pd.read_csv(\"diabetes.csv\")"
      ],
      "metadata": {
        "id": "YdmDn5RGtFMS"
      },
      "execution_count": 2,
      "outputs": []
    },
    {
      "cell_type": "code",
      "source": [
        "df.head()"
      ],
      "metadata": {
        "colab": {
          "base_uri": "https://localhost:8080/",
          "height": 206
        },
        "id": "5WO46wP5tNU2",
        "outputId": "c9310c05-52ba-4a84-d1cd-efdf2203f9da"
      },
      "execution_count": 3,
      "outputs": [
        {
          "output_type": "execute_result",
          "data": {
            "text/plain": [
              "   Pregnancies  Glucose  BloodPressure  SkinThickness  Insulin   BMI  \\\n",
              "0            6      148             72             35        0  33.6   \n",
              "1            1       85             66             29        0  26.6   \n",
              "2            8      183             64              0        0  23.3   \n",
              "3            1       89             66             23       94  28.1   \n",
              "4            0      137             40             35      168  43.1   \n",
              "\n",
              "   DiabetesPedigreeFunction  Age  Outcome  \n",
              "0                     0.627   50        1  \n",
              "1                     0.351   31        0  \n",
              "2                     0.672   32        1  \n",
              "3                     0.167   21        0  \n",
              "4                     2.288   33        1  "
            ],
            "text/html": [
              "\n",
              "  <div id=\"df-d14787cc-5d67-48d7-8db3-52bcd4003054\" class=\"colab-df-container\">\n",
              "    <div>\n",
              "<style scoped>\n",
              "    .dataframe tbody tr th:only-of-type {\n",
              "        vertical-align: middle;\n",
              "    }\n",
              "\n",
              "    .dataframe tbody tr th {\n",
              "        vertical-align: top;\n",
              "    }\n",
              "\n",
              "    .dataframe thead th {\n",
              "        text-align: right;\n",
              "    }\n",
              "</style>\n",
              "<table border=\"1\" class=\"dataframe\">\n",
              "  <thead>\n",
              "    <tr style=\"text-align: right;\">\n",
              "      <th></th>\n",
              "      <th>Pregnancies</th>\n",
              "      <th>Glucose</th>\n",
              "      <th>BloodPressure</th>\n",
              "      <th>SkinThickness</th>\n",
              "      <th>Insulin</th>\n",
              "      <th>BMI</th>\n",
              "      <th>DiabetesPedigreeFunction</th>\n",
              "      <th>Age</th>\n",
              "      <th>Outcome</th>\n",
              "    </tr>\n",
              "  </thead>\n",
              "  <tbody>\n",
              "    <tr>\n",
              "      <th>0</th>\n",
              "      <td>6</td>\n",
              "      <td>148</td>\n",
              "      <td>72</td>\n",
              "      <td>35</td>\n",
              "      <td>0</td>\n",
              "      <td>33.6</td>\n",
              "      <td>0.627</td>\n",
              "      <td>50</td>\n",
              "      <td>1</td>\n",
              "    </tr>\n",
              "    <tr>\n",
              "      <th>1</th>\n",
              "      <td>1</td>\n",
              "      <td>85</td>\n",
              "      <td>66</td>\n",
              "      <td>29</td>\n",
              "      <td>0</td>\n",
              "      <td>26.6</td>\n",
              "      <td>0.351</td>\n",
              "      <td>31</td>\n",
              "      <td>0</td>\n",
              "    </tr>\n",
              "    <tr>\n",
              "      <th>2</th>\n",
              "      <td>8</td>\n",
              "      <td>183</td>\n",
              "      <td>64</td>\n",
              "      <td>0</td>\n",
              "      <td>0</td>\n",
              "      <td>23.3</td>\n",
              "      <td>0.672</td>\n",
              "      <td>32</td>\n",
              "      <td>1</td>\n",
              "    </tr>\n",
              "    <tr>\n",
              "      <th>3</th>\n",
              "      <td>1</td>\n",
              "      <td>89</td>\n",
              "      <td>66</td>\n",
              "      <td>23</td>\n",
              "      <td>94</td>\n",
              "      <td>28.1</td>\n",
              "      <td>0.167</td>\n",
              "      <td>21</td>\n",
              "      <td>0</td>\n",
              "    </tr>\n",
              "    <tr>\n",
              "      <th>4</th>\n",
              "      <td>0</td>\n",
              "      <td>137</td>\n",
              "      <td>40</td>\n",
              "      <td>35</td>\n",
              "      <td>168</td>\n",
              "      <td>43.1</td>\n",
              "      <td>2.288</td>\n",
              "      <td>33</td>\n",
              "      <td>1</td>\n",
              "    </tr>\n",
              "  </tbody>\n",
              "</table>\n",
              "</div>\n",
              "    <div class=\"colab-df-buttons\">\n",
              "\n",
              "  <div class=\"colab-df-container\">\n",
              "    <button class=\"colab-df-convert\" onclick=\"convertToInteractive('df-d14787cc-5d67-48d7-8db3-52bcd4003054')\"\n",
              "            title=\"Convert this dataframe to an interactive table.\"\n",
              "            style=\"display:none;\">\n",
              "\n",
              "  <svg xmlns=\"http://www.w3.org/2000/svg\" height=\"24px\" viewBox=\"0 -960 960 960\">\n",
              "    <path d=\"M120-120v-720h720v720H120Zm60-500h600v-160H180v160Zm220 220h160v-160H400v160Zm0 220h160v-160H400v160ZM180-400h160v-160H180v160Zm440 0h160v-160H620v160ZM180-180h160v-160H180v160Zm440 0h160v-160H620v160Z\"/>\n",
              "  </svg>\n",
              "    </button>\n",
              "\n",
              "  <style>\n",
              "    .colab-df-container {\n",
              "      display:flex;\n",
              "      gap: 12px;\n",
              "    }\n",
              "\n",
              "    .colab-df-convert {\n",
              "      background-color: #E8F0FE;\n",
              "      border: none;\n",
              "      border-radius: 50%;\n",
              "      cursor: pointer;\n",
              "      display: none;\n",
              "      fill: #1967D2;\n",
              "      height: 32px;\n",
              "      padding: 0 0 0 0;\n",
              "      width: 32px;\n",
              "    }\n",
              "\n",
              "    .colab-df-convert:hover {\n",
              "      background-color: #E2EBFA;\n",
              "      box-shadow: 0px 1px 2px rgba(60, 64, 67, 0.3), 0px 1px 3px 1px rgba(60, 64, 67, 0.15);\n",
              "      fill: #174EA6;\n",
              "    }\n",
              "\n",
              "    .colab-df-buttons div {\n",
              "      margin-bottom: 4px;\n",
              "    }\n",
              "\n",
              "    [theme=dark] .colab-df-convert {\n",
              "      background-color: #3B4455;\n",
              "      fill: #D2E3FC;\n",
              "    }\n",
              "\n",
              "    [theme=dark] .colab-df-convert:hover {\n",
              "      background-color: #434B5C;\n",
              "      box-shadow: 0px 1px 3px 1px rgba(0, 0, 0, 0.15);\n",
              "      filter: drop-shadow(0px 1px 2px rgba(0, 0, 0, 0.3));\n",
              "      fill: #FFFFFF;\n",
              "    }\n",
              "  </style>\n",
              "\n",
              "    <script>\n",
              "      const buttonEl =\n",
              "        document.querySelector('#df-d14787cc-5d67-48d7-8db3-52bcd4003054 button.colab-df-convert');\n",
              "      buttonEl.style.display =\n",
              "        google.colab.kernel.accessAllowed ? 'block' : 'none';\n",
              "\n",
              "      async function convertToInteractive(key) {\n",
              "        const element = document.querySelector('#df-d14787cc-5d67-48d7-8db3-52bcd4003054');\n",
              "        const dataTable =\n",
              "          await google.colab.kernel.invokeFunction('convertToInteractive',\n",
              "                                                    [key], {});\n",
              "        if (!dataTable) return;\n",
              "\n",
              "        const docLinkHtml = 'Like what you see? Visit the ' +\n",
              "          '<a target=\"_blank\" href=https://colab.research.google.com/notebooks/data_table.ipynb>data table notebook</a>'\n",
              "          + ' to learn more about interactive tables.';\n",
              "        element.innerHTML = '';\n",
              "        dataTable['output_type'] = 'display_data';\n",
              "        await google.colab.output.renderOutput(dataTable, element);\n",
              "        const docLink = document.createElement('div');\n",
              "        docLink.innerHTML = docLinkHtml;\n",
              "        element.appendChild(docLink);\n",
              "      }\n",
              "    </script>\n",
              "  </div>\n",
              "\n",
              "\n",
              "<div id=\"df-17209f3a-15d2-4d37-a9ce-fd1a92f3f632\">\n",
              "  <button class=\"colab-df-quickchart\" onclick=\"quickchart('df-17209f3a-15d2-4d37-a9ce-fd1a92f3f632')\"\n",
              "            title=\"Suggest charts\"\n",
              "            style=\"display:none;\">\n",
              "\n",
              "<svg xmlns=\"http://www.w3.org/2000/svg\" height=\"24px\"viewBox=\"0 0 24 24\"\n",
              "     width=\"24px\">\n",
              "    <g>\n",
              "        <path d=\"M19 3H5c-1.1 0-2 .9-2 2v14c0 1.1.9 2 2 2h14c1.1 0 2-.9 2-2V5c0-1.1-.9-2-2-2zM9 17H7v-7h2v7zm4 0h-2V7h2v10zm4 0h-2v-4h2v4z\"/>\n",
              "    </g>\n",
              "</svg>\n",
              "  </button>\n",
              "\n",
              "<style>\n",
              "  .colab-df-quickchart {\n",
              "      --bg-color: #E8F0FE;\n",
              "      --fill-color: #1967D2;\n",
              "      --hover-bg-color: #E2EBFA;\n",
              "      --hover-fill-color: #174EA6;\n",
              "      --disabled-fill-color: #AAA;\n",
              "      --disabled-bg-color: #DDD;\n",
              "  }\n",
              "\n",
              "  [theme=dark] .colab-df-quickchart {\n",
              "      --bg-color: #3B4455;\n",
              "      --fill-color: #D2E3FC;\n",
              "      --hover-bg-color: #434B5C;\n",
              "      --hover-fill-color: #FFFFFF;\n",
              "      --disabled-bg-color: #3B4455;\n",
              "      --disabled-fill-color: #666;\n",
              "  }\n",
              "\n",
              "  .colab-df-quickchart {\n",
              "    background-color: var(--bg-color);\n",
              "    border: none;\n",
              "    border-radius: 50%;\n",
              "    cursor: pointer;\n",
              "    display: none;\n",
              "    fill: var(--fill-color);\n",
              "    height: 32px;\n",
              "    padding: 0;\n",
              "    width: 32px;\n",
              "  }\n",
              "\n",
              "  .colab-df-quickchart:hover {\n",
              "    background-color: var(--hover-bg-color);\n",
              "    box-shadow: 0 1px 2px rgba(60, 64, 67, 0.3), 0 1px 3px 1px rgba(60, 64, 67, 0.15);\n",
              "    fill: var(--button-hover-fill-color);\n",
              "  }\n",
              "\n",
              "  .colab-df-quickchart-complete:disabled,\n",
              "  .colab-df-quickchart-complete:disabled:hover {\n",
              "    background-color: var(--disabled-bg-color);\n",
              "    fill: var(--disabled-fill-color);\n",
              "    box-shadow: none;\n",
              "  }\n",
              "\n",
              "  .colab-df-spinner {\n",
              "    border: 2px solid var(--fill-color);\n",
              "    border-color: transparent;\n",
              "    border-bottom-color: var(--fill-color);\n",
              "    animation:\n",
              "      spin 1s steps(1) infinite;\n",
              "  }\n",
              "\n",
              "  @keyframes spin {\n",
              "    0% {\n",
              "      border-color: transparent;\n",
              "      border-bottom-color: var(--fill-color);\n",
              "      border-left-color: var(--fill-color);\n",
              "    }\n",
              "    20% {\n",
              "      border-color: transparent;\n",
              "      border-left-color: var(--fill-color);\n",
              "      border-top-color: var(--fill-color);\n",
              "    }\n",
              "    30% {\n",
              "      border-color: transparent;\n",
              "      border-left-color: var(--fill-color);\n",
              "      border-top-color: var(--fill-color);\n",
              "      border-right-color: var(--fill-color);\n",
              "    }\n",
              "    40% {\n",
              "      border-color: transparent;\n",
              "      border-right-color: var(--fill-color);\n",
              "      border-top-color: var(--fill-color);\n",
              "    }\n",
              "    60% {\n",
              "      border-color: transparent;\n",
              "      border-right-color: var(--fill-color);\n",
              "    }\n",
              "    80% {\n",
              "      border-color: transparent;\n",
              "      border-right-color: var(--fill-color);\n",
              "      border-bottom-color: var(--fill-color);\n",
              "    }\n",
              "    90% {\n",
              "      border-color: transparent;\n",
              "      border-bottom-color: var(--fill-color);\n",
              "    }\n",
              "  }\n",
              "</style>\n",
              "\n",
              "  <script>\n",
              "    async function quickchart(key) {\n",
              "      const quickchartButtonEl =\n",
              "        document.querySelector('#' + key + ' button');\n",
              "      quickchartButtonEl.disabled = true;  // To prevent multiple clicks.\n",
              "      quickchartButtonEl.classList.add('colab-df-spinner');\n",
              "      try {\n",
              "        const charts = await google.colab.kernel.invokeFunction(\n",
              "            'suggestCharts', [key], {});\n",
              "      } catch (error) {\n",
              "        console.error('Error during call to suggestCharts:', error);\n",
              "      }\n",
              "      quickchartButtonEl.classList.remove('colab-df-spinner');\n",
              "      quickchartButtonEl.classList.add('colab-df-quickchart-complete');\n",
              "    }\n",
              "    (() => {\n",
              "      let quickchartButtonEl =\n",
              "        document.querySelector('#df-17209f3a-15d2-4d37-a9ce-fd1a92f3f632 button');\n",
              "      quickchartButtonEl.style.display =\n",
              "        google.colab.kernel.accessAllowed ? 'block' : 'none';\n",
              "    })();\n",
              "  </script>\n",
              "</div>\n",
              "\n",
              "    </div>\n",
              "  </div>\n"
            ],
            "application/vnd.google.colaboratory.intrinsic+json": {
              "type": "dataframe",
              "variable_name": "df",
              "summary": "{\n  \"name\": \"df\",\n  \"rows\": 768,\n  \"fields\": [\n    {\n      \"column\": \"Pregnancies\",\n      \"properties\": {\n        \"dtype\": \"number\",\n        \"std\": 3,\n        \"min\": 0,\n        \"max\": 17,\n        \"num_unique_values\": 17,\n        \"samples\": [\n          6,\n          1,\n          3\n        ],\n        \"semantic_type\": \"\",\n        \"description\": \"\"\n      }\n    },\n    {\n      \"column\": \"Glucose\",\n      \"properties\": {\n        \"dtype\": \"number\",\n        \"std\": 31,\n        \"min\": 0,\n        \"max\": 199,\n        \"num_unique_values\": 136,\n        \"samples\": [\n          151,\n          101,\n          112\n        ],\n        \"semantic_type\": \"\",\n        \"description\": \"\"\n      }\n    },\n    {\n      \"column\": \"BloodPressure\",\n      \"properties\": {\n        \"dtype\": \"number\",\n        \"std\": 19,\n        \"min\": 0,\n        \"max\": 122,\n        \"num_unique_values\": 47,\n        \"samples\": [\n          86,\n          46,\n          85\n        ],\n        \"semantic_type\": \"\",\n        \"description\": \"\"\n      }\n    },\n    {\n      \"column\": \"SkinThickness\",\n      \"properties\": {\n        \"dtype\": \"number\",\n        \"std\": 15,\n        \"min\": 0,\n        \"max\": 99,\n        \"num_unique_values\": 51,\n        \"samples\": [\n          7,\n          12,\n          48\n        ],\n        \"semantic_type\": \"\",\n        \"description\": \"\"\n      }\n    },\n    {\n      \"column\": \"Insulin\",\n      \"properties\": {\n        \"dtype\": \"number\",\n        \"std\": 115,\n        \"min\": 0,\n        \"max\": 846,\n        \"num_unique_values\": 186,\n        \"samples\": [\n          52,\n          41,\n          183\n        ],\n        \"semantic_type\": \"\",\n        \"description\": \"\"\n      }\n    },\n    {\n      \"column\": \"BMI\",\n      \"properties\": {\n        \"dtype\": \"number\",\n        \"std\": 7.884160320375446,\n        \"min\": 0.0,\n        \"max\": 67.1,\n        \"num_unique_values\": 248,\n        \"samples\": [\n          19.9,\n          31.0,\n          38.1\n        ],\n        \"semantic_type\": \"\",\n        \"description\": \"\"\n      }\n    },\n    {\n      \"column\": \"DiabetesPedigreeFunction\",\n      \"properties\": {\n        \"dtype\": \"number\",\n        \"std\": 0.3313285950127749,\n        \"min\": 0.078,\n        \"max\": 2.42,\n        \"num_unique_values\": 517,\n        \"samples\": [\n          1.731,\n          0.426,\n          0.138\n        ],\n        \"semantic_type\": \"\",\n        \"description\": \"\"\n      }\n    },\n    {\n      \"column\": \"Age\",\n      \"properties\": {\n        \"dtype\": \"number\",\n        \"std\": 11,\n        \"min\": 21,\n        \"max\": 81,\n        \"num_unique_values\": 52,\n        \"samples\": [\n          60,\n          47,\n          72\n        ],\n        \"semantic_type\": \"\",\n        \"description\": \"\"\n      }\n    },\n    {\n      \"column\": \"Outcome\",\n      \"properties\": {\n        \"dtype\": \"number\",\n        \"std\": 0,\n        \"min\": 0,\n        \"max\": 1,\n        \"num_unique_values\": 2,\n        \"samples\": [\n          0,\n          1\n        ],\n        \"semantic_type\": \"\",\n        \"description\": \"\"\n      }\n    }\n  ]\n}"
            }
          },
          "metadata": {},
          "execution_count": 3
        }
      ]
    },
    {
      "cell_type": "code",
      "source": [
        "df.corr()['Outcome']"
      ],
      "metadata": {
        "colab": {
          "base_uri": "https://localhost:8080/"
        },
        "id": "v5j4gdi5tNg7",
        "outputId": "5fe5f4cc-5d61-4eb7-db70-f4f3cdc128f2"
      },
      "execution_count": 4,
      "outputs": [
        {
          "output_type": "execute_result",
          "data": {
            "text/plain": [
              "Pregnancies                 0.221898\n",
              "Glucose                     0.466581\n",
              "BloodPressure               0.065068\n",
              "SkinThickness               0.074752\n",
              "Insulin                     0.130548\n",
              "BMI                         0.292695\n",
              "DiabetesPedigreeFunction    0.173844\n",
              "Age                         0.238356\n",
              "Outcome                     1.000000\n",
              "Name: Outcome, dtype: float64"
            ]
          },
          "metadata": {},
          "execution_count": 4
        }
      ]
    },
    {
      "cell_type": "code",
      "source": [
        "X = df.iloc[:,:-1].values\n",
        "Y = df.iloc[:,-1].values"
      ],
      "metadata": {
        "id": "-q5bLFZAtNjp"
      },
      "execution_count": 5,
      "outputs": []
    },
    {
      "cell_type": "code",
      "source": [
        "from sklearn.preprocessing import StandardScaler\n",
        "scaler = StandardScaler()"
      ],
      "metadata": {
        "id": "eDFW5y-DtNmX"
      },
      "execution_count": 6,
      "outputs": []
    },
    {
      "cell_type": "code",
      "source": [
        "X = scaler.fit_transform(X)"
      ],
      "metadata": {
        "id": "cBV4fu7BtNpS"
      },
      "execution_count": 7,
      "outputs": []
    },
    {
      "cell_type": "code",
      "source": [
        "X.shape"
      ],
      "metadata": {
        "colab": {
          "base_uri": "https://localhost:8080/"
        },
        "id": "fZC65ypBtNrv",
        "outputId": "86211947-957b-46b2-dc1b-d8d2d59aa992"
      },
      "execution_count": 8,
      "outputs": [
        {
          "output_type": "execute_result",
          "data": {
            "text/plain": [
              "(768, 8)"
            ]
          },
          "metadata": {},
          "execution_count": 8
        }
      ]
    },
    {
      "cell_type": "code",
      "source": [
        "from sklearn.model_selection import train_test_split\n",
        "X_train,X_test,Y_train,Y_test = train_test_split(X,Y,test_size=0.2,random_state=1)"
      ],
      "metadata": {
        "id": "XlSGO6G5tNuN"
      },
      "execution_count": 9,
      "outputs": []
    },
    {
      "cell_type": "code",
      "source": [
        "import tensorflow\n",
        "from tensorflow import keras\n",
        "from keras import Sequential\n",
        "from keras.layers import Dense"
      ],
      "metadata": {
        "id": "FnTZ9TiVtNxm"
      },
      "execution_count": 10,
      "outputs": []
    },
    {
      "cell_type": "code",
      "source": [
        "model = Sequential()\n",
        "model.add(Dense(32,activation = 'relu',input_dim=8))\n",
        "model.add(Dense(1,activation = 'sigmoid'))\n",
        "\n",
        "model.compile(optimizer ='Adam', loss = 'binary_crossentropy', metrics= ['accuracy'])"
      ],
      "metadata": {
        "id": "1Lev7_yU3bvr"
      },
      "execution_count": 11,
      "outputs": []
    },
    {
      "cell_type": "code",
      "source": [
        "model.fit(X_train,Y_train,batch_size=32, epochs=10)"
      ],
      "metadata": {
        "colab": {
          "base_uri": "https://localhost:8080/"
        },
        "id": "BX8vi00z3byD",
        "outputId": "5826c327-38a8-499d-cf0b-0b4a4f900942"
      },
      "execution_count": 12,
      "outputs": [
        {
          "output_type": "stream",
          "name": "stdout",
          "text": [
            "Epoch 1/10\n",
            "20/20 [==============================] - 1s 2ms/step - loss: 0.6981 - accuracy: 0.5879\n",
            "Epoch 2/10\n",
            "20/20 [==============================] - 0s 2ms/step - loss: 0.6486 - accuracy: 0.6368\n",
            "Epoch 3/10\n",
            "20/20 [==============================] - 0s 3ms/step - loss: 0.6126 - accuracy: 0.6580\n",
            "Epoch 4/10\n",
            "20/20 [==============================] - 0s 2ms/step - loss: 0.5840 - accuracy: 0.6857\n",
            "Epoch 5/10\n",
            "20/20 [==============================] - 0s 2ms/step - loss: 0.5631 - accuracy: 0.6906\n",
            "Epoch 6/10\n",
            "20/20 [==============================] - 0s 3ms/step - loss: 0.5460 - accuracy: 0.7020\n",
            "Epoch 7/10\n",
            "20/20 [==============================] - 0s 2ms/step - loss: 0.5315 - accuracy: 0.7150\n",
            "Epoch 8/10\n",
            "20/20 [==============================] - 0s 2ms/step - loss: 0.5199 - accuracy: 0.7345\n",
            "Epoch 9/10\n",
            "20/20 [==============================] - 0s 3ms/step - loss: 0.5093 - accuracy: 0.7427\n",
            "Epoch 10/10\n",
            "20/20 [==============================] - 0s 2ms/step - loss: 0.5003 - accuracy: 0.7524\n"
          ]
        },
        {
          "output_type": "execute_result",
          "data": {
            "text/plain": [
              "<keras.src.callbacks.History at 0x7d2f6d1f3520>"
            ]
          },
          "metadata": {},
          "execution_count": 12
        }
      ]
    },
    {
      "cell_type": "code",
      "source": [
        "pip install -U keras-tuner"
      ],
      "metadata": {
        "colab": {
          "base_uri": "https://localhost:8080/"
        },
        "id": "4rD-4-NA3b0o",
        "outputId": "d7adfdd6-f584-4fed-dcc8-325dd59fbffd"
      },
      "execution_count": 13,
      "outputs": [
        {
          "output_type": "stream",
          "name": "stdout",
          "text": [
            "Collecting keras-tuner\n",
            "  Downloading keras_tuner-1.4.6-py3-none-any.whl (128 kB)\n",
            "\u001b[2K     \u001b[90m━━━━━━━━━━━━━━━━━━━━━━━━━━━━━━━━━━━━━━━━\u001b[0m \u001b[32m128.9/128.9 kB\u001b[0m \u001b[31m1.4 MB/s\u001b[0m eta \u001b[36m0:00:00\u001b[0m\n",
            "\u001b[?25hRequirement already satisfied: keras in /usr/local/lib/python3.10/dist-packages (from keras-tuner) (2.15.0)\n",
            "Requirement already satisfied: packaging in /usr/local/lib/python3.10/dist-packages (from keras-tuner) (23.2)\n",
            "Requirement already satisfied: requests in /usr/local/lib/python3.10/dist-packages (from keras-tuner) (2.31.0)\n",
            "Collecting kt-legacy (from keras-tuner)\n",
            "  Downloading kt_legacy-1.0.5-py3-none-any.whl (9.6 kB)\n",
            "Requirement already satisfied: charset-normalizer<4,>=2 in /usr/local/lib/python3.10/dist-packages (from requests->keras-tuner) (3.3.2)\n",
            "Requirement already satisfied: idna<4,>=2.5 in /usr/local/lib/python3.10/dist-packages (from requests->keras-tuner) (3.6)\n",
            "Requirement already satisfied: urllib3<3,>=1.21.1 in /usr/local/lib/python3.10/dist-packages (from requests->keras-tuner) (2.0.7)\n",
            "Requirement already satisfied: certifi>=2017.4.17 in /usr/local/lib/python3.10/dist-packages (from requests->keras-tuner) (2024.2.2)\n",
            "Installing collected packages: kt-legacy, keras-tuner\n",
            "Successfully installed keras-tuner-1.4.6 kt-legacy-1.0.5\n"
          ]
        }
      ]
    },
    {
      "cell_type": "code",
      "source": [
        "import keras_tuner as kt"
      ],
      "metadata": {
        "id": "3Hs2PGgN3b27"
      },
      "execution_count": 14,
      "outputs": []
    },
    {
      "cell_type": "code",
      "source": [
        "def build_model(hp):\n",
        "  model = Sequential()\n",
        "  model.add(Dense(32,activation='relu',input_dim=8))\n",
        "  model.add(Dense(1,activation='sigmoid'))\n",
        "\n",
        "  model.compile(optimizer=hp.Choice('optimizer',values=['adam','sgd','rmsprop','adadelta']),loss='binary_crossentropy',metrics=['accuracy'])\n",
        "  return model"
      ],
      "metadata": {
        "id": "_x01qNzK3b5M"
      },
      "execution_count": 15,
      "outputs": []
    },
    {
      "cell_type": "code",
      "source": [
        "tuner = kt.RandomSearch(build_model,\n",
        "                        objective='val_accuracy',\n",
        "                        max_trials=5)"
      ],
      "metadata": {
        "id": "FTZUVF8c3b7c"
      },
      "execution_count": 16,
      "outputs": []
    },
    {
      "cell_type": "code",
      "source": [
        "tuner.search(X_train,Y_train,epochs=5,validation_data=(X_test,Y_test))"
      ],
      "metadata": {
        "colab": {
          "base_uri": "https://localhost:8080/"
        },
        "id": "pZ_atmsR3b96",
        "outputId": "a7b049dc-deff-46ed-c43c-0557c350b7d8"
      },
      "execution_count": 17,
      "outputs": [
        {
          "output_type": "stream",
          "name": "stdout",
          "text": [
            "Trial 4 Complete [00h 00m 02s]\n",
            "val_accuracy: 0.5649350881576538\n",
            "\n",
            "Best val_accuracy So Far: 0.8246753215789795\n",
            "Total elapsed time: 00h 00m 11s\n"
          ]
        }
      ]
    },
    {
      "cell_type": "code",
      "source": [
        "tuner.get_best_hyperparameters()[0].values"
      ],
      "metadata": {
        "colab": {
          "base_uri": "https://localhost:8080/"
        },
        "id": "8hissHdaL3bL",
        "outputId": "678d2036-768d-4ed9-f32d-943e1b8f1112"
      },
      "execution_count": 18,
      "outputs": [
        {
          "output_type": "execute_result",
          "data": {
            "text/plain": [
              "{'optimizer': 'rmsprop'}"
            ]
          },
          "metadata": {},
          "execution_count": 18
        }
      ]
    },
    {
      "cell_type": "code",
      "source": [
        "model = tuner.get_best_models(num_models=1)[0]"
      ],
      "metadata": {
        "id": "SNhGs5793cAs"
      },
      "execution_count": 19,
      "outputs": []
    },
    {
      "cell_type": "code",
      "source": [
        "model.summary()"
      ],
      "metadata": {
        "colab": {
          "base_uri": "https://localhost:8080/"
        },
        "id": "tcxRLhKO3cD0",
        "outputId": "82443c20-3507-4a61-cb10-d4d09f43727d"
      },
      "execution_count": 20,
      "outputs": [
        {
          "output_type": "stream",
          "name": "stdout",
          "text": [
            "Model: \"sequential\"\n",
            "_________________________________________________________________\n",
            " Layer (type)                Output Shape              Param #   \n",
            "=================================================================\n",
            " dense (Dense)               (None, 32)                288       \n",
            "                                                                 \n",
            " dense_1 (Dense)             (None, 1)                 33        \n",
            "                                                                 \n",
            "=================================================================\n",
            "Total params: 321 (1.25 KB)\n",
            "Trainable params: 321 (1.25 KB)\n",
            "Non-trainable params: 0 (0.00 Byte)\n",
            "_________________________________________________________________\n"
          ]
        }
      ]
    },
    {
      "cell_type": "code",
      "source": [
        "model.fit(X_train,Y_train,batch_size=32,epochs=100,initial_epoch=6,validation_data=(X_test,Y_test))"
      ],
      "metadata": {
        "colab": {
          "base_uri": "https://localhost:8080/"
        },
        "id": "yF2pyDnVNK3y",
        "outputId": "6cfeb75b-4545-482b-8369-af176bf3dd91"
      },
      "execution_count": 21,
      "outputs": [
        {
          "output_type": "stream",
          "name": "stdout",
          "text": [
            "Epoch 7/100\n",
            "20/20 [==============================] - 1s 12ms/step - loss: 0.5126 - accuracy: 0.7573 - val_loss: 0.5080 - val_accuracy: 0.8117\n",
            "Epoch 8/100\n",
            "20/20 [==============================] - 0s 4ms/step - loss: 0.5015 - accuracy: 0.7622 - val_loss: 0.5005 - val_accuracy: 0.7922\n",
            "Epoch 9/100\n",
            "20/20 [==============================] - 0s 4ms/step - loss: 0.4930 - accuracy: 0.7655 - val_loss: 0.4944 - val_accuracy: 0.8052\n",
            "Epoch 10/100\n",
            "20/20 [==============================] - 0s 4ms/step - loss: 0.4851 - accuracy: 0.7687 - val_loss: 0.4900 - val_accuracy: 0.8052\n",
            "Epoch 11/100\n",
            "20/20 [==============================] - 0s 4ms/step - loss: 0.4795 - accuracy: 0.7752 - val_loss: 0.4862 - val_accuracy: 0.7987\n",
            "Epoch 12/100\n",
            "20/20 [==============================] - 0s 4ms/step - loss: 0.4746 - accuracy: 0.7720 - val_loss: 0.4839 - val_accuracy: 0.8117\n",
            "Epoch 13/100\n",
            "20/20 [==============================] - 0s 4ms/step - loss: 0.4707 - accuracy: 0.7720 - val_loss: 0.4810 - val_accuracy: 0.8117\n",
            "Epoch 14/100\n",
            "20/20 [==============================] - 0s 4ms/step - loss: 0.4679 - accuracy: 0.7687 - val_loss: 0.4789 - val_accuracy: 0.7987\n",
            "Epoch 15/100\n",
            "20/20 [==============================] - 0s 4ms/step - loss: 0.4654 - accuracy: 0.7704 - val_loss: 0.4773 - val_accuracy: 0.8052\n",
            "Epoch 16/100\n",
            "20/20 [==============================] - 0s 4ms/step - loss: 0.4635 - accuracy: 0.7736 - val_loss: 0.4759 - val_accuracy: 0.8052\n",
            "Epoch 17/100\n",
            "20/20 [==============================] - 0s 4ms/step - loss: 0.4612 - accuracy: 0.7687 - val_loss: 0.4754 - val_accuracy: 0.8052\n",
            "Epoch 18/100\n",
            "20/20 [==============================] - 0s 4ms/step - loss: 0.4595 - accuracy: 0.7704 - val_loss: 0.4751 - val_accuracy: 0.8052\n",
            "Epoch 19/100\n",
            "20/20 [==============================] - 0s 4ms/step - loss: 0.4582 - accuracy: 0.7736 - val_loss: 0.4744 - val_accuracy: 0.8052\n",
            "Epoch 20/100\n",
            "20/20 [==============================] - 0s 4ms/step - loss: 0.4569 - accuracy: 0.7769 - val_loss: 0.4742 - val_accuracy: 0.8052\n",
            "Epoch 21/100\n",
            "20/20 [==============================] - 0s 4ms/step - loss: 0.4556 - accuracy: 0.7769 - val_loss: 0.4734 - val_accuracy: 0.8052\n",
            "Epoch 22/100\n",
            "20/20 [==============================] - 0s 4ms/step - loss: 0.4547 - accuracy: 0.7704 - val_loss: 0.4730 - val_accuracy: 0.8052\n",
            "Epoch 23/100\n",
            "20/20 [==============================] - 0s 3ms/step - loss: 0.4537 - accuracy: 0.7720 - val_loss: 0.4719 - val_accuracy: 0.7987\n",
            "Epoch 24/100\n",
            "20/20 [==============================] - 0s 3ms/step - loss: 0.4524 - accuracy: 0.7736 - val_loss: 0.4706 - val_accuracy: 0.8052\n",
            "Epoch 25/100\n",
            "20/20 [==============================] - 0s 4ms/step - loss: 0.4517 - accuracy: 0.7687 - val_loss: 0.4699 - val_accuracy: 0.8052\n",
            "Epoch 26/100\n",
            "20/20 [==============================] - 0s 4ms/step - loss: 0.4507 - accuracy: 0.7687 - val_loss: 0.4696 - val_accuracy: 0.8117\n",
            "Epoch 27/100\n",
            "20/20 [==============================] - 0s 4ms/step - loss: 0.4500 - accuracy: 0.7736 - val_loss: 0.4698 - val_accuracy: 0.8117\n",
            "Epoch 28/100\n",
            "20/20 [==============================] - 0s 4ms/step - loss: 0.4494 - accuracy: 0.7720 - val_loss: 0.4700 - val_accuracy: 0.8117\n",
            "Epoch 29/100\n",
            "20/20 [==============================] - 0s 4ms/step - loss: 0.4485 - accuracy: 0.7704 - val_loss: 0.4691 - val_accuracy: 0.8052\n",
            "Epoch 30/100\n",
            "20/20 [==============================] - 0s 4ms/step - loss: 0.4481 - accuracy: 0.7736 - val_loss: 0.4691 - val_accuracy: 0.8117\n",
            "Epoch 31/100\n",
            "20/20 [==============================] - 0s 4ms/step - loss: 0.4469 - accuracy: 0.7704 - val_loss: 0.4694 - val_accuracy: 0.8117\n",
            "Epoch 32/100\n",
            "20/20 [==============================] - 0s 3ms/step - loss: 0.4467 - accuracy: 0.7655 - val_loss: 0.4700 - val_accuracy: 0.8117\n",
            "Epoch 33/100\n",
            "20/20 [==============================] - 0s 3ms/step - loss: 0.4462 - accuracy: 0.7720 - val_loss: 0.4700 - val_accuracy: 0.8117\n",
            "Epoch 34/100\n",
            "20/20 [==============================] - 0s 4ms/step - loss: 0.4454 - accuracy: 0.7736 - val_loss: 0.4686 - val_accuracy: 0.8052\n",
            "Epoch 35/100\n",
            "20/20 [==============================] - 0s 4ms/step - loss: 0.4446 - accuracy: 0.7752 - val_loss: 0.4692 - val_accuracy: 0.7987\n",
            "Epoch 36/100\n",
            "20/20 [==============================] - 0s 4ms/step - loss: 0.4441 - accuracy: 0.7720 - val_loss: 0.4688 - val_accuracy: 0.7987\n",
            "Epoch 37/100\n",
            "20/20 [==============================] - 0s 4ms/step - loss: 0.4434 - accuracy: 0.7736 - val_loss: 0.4687 - val_accuracy: 0.7987\n",
            "Epoch 38/100\n",
            "20/20 [==============================] - 0s 4ms/step - loss: 0.4431 - accuracy: 0.7752 - val_loss: 0.4687 - val_accuracy: 0.7987\n",
            "Epoch 39/100\n",
            "20/20 [==============================] - 0s 3ms/step - loss: 0.4423 - accuracy: 0.7736 - val_loss: 0.4678 - val_accuracy: 0.7987\n",
            "Epoch 40/100\n",
            "20/20 [==============================] - 0s 4ms/step - loss: 0.4416 - accuracy: 0.7752 - val_loss: 0.4683 - val_accuracy: 0.8052\n",
            "Epoch 41/100\n",
            "20/20 [==============================] - 0s 4ms/step - loss: 0.4411 - accuracy: 0.7736 - val_loss: 0.4681 - val_accuracy: 0.7987\n",
            "Epoch 42/100\n",
            "20/20 [==============================] - 0s 4ms/step - loss: 0.4407 - accuracy: 0.7818 - val_loss: 0.4680 - val_accuracy: 0.8117\n",
            "Epoch 43/100\n",
            "20/20 [==============================] - 0s 4ms/step - loss: 0.4401 - accuracy: 0.7704 - val_loss: 0.4679 - val_accuracy: 0.8052\n",
            "Epoch 44/100\n",
            "20/20 [==============================] - 0s 3ms/step - loss: 0.4399 - accuracy: 0.7736 - val_loss: 0.4678 - val_accuracy: 0.8052\n",
            "Epoch 45/100\n",
            "20/20 [==============================] - 0s 4ms/step - loss: 0.4391 - accuracy: 0.7785 - val_loss: 0.4670 - val_accuracy: 0.8052\n",
            "Epoch 46/100\n",
            "20/20 [==============================] - 0s 4ms/step - loss: 0.4386 - accuracy: 0.7736 - val_loss: 0.4665 - val_accuracy: 0.8117\n",
            "Epoch 47/100\n",
            "20/20 [==============================] - 0s 4ms/step - loss: 0.4380 - accuracy: 0.7752 - val_loss: 0.4664 - val_accuracy: 0.8117\n",
            "Epoch 48/100\n",
            "20/20 [==============================] - 0s 4ms/step - loss: 0.4376 - accuracy: 0.7785 - val_loss: 0.4663 - val_accuracy: 0.8117\n",
            "Epoch 49/100\n",
            "20/20 [==============================] - 0s 4ms/step - loss: 0.4371 - accuracy: 0.7752 - val_loss: 0.4655 - val_accuracy: 0.8117\n",
            "Epoch 50/100\n",
            "20/20 [==============================] - 0s 4ms/step - loss: 0.4364 - accuracy: 0.7785 - val_loss: 0.4654 - val_accuracy: 0.8117\n",
            "Epoch 51/100\n",
            "20/20 [==============================] - 0s 4ms/step - loss: 0.4362 - accuracy: 0.7752 - val_loss: 0.4648 - val_accuracy: 0.8117\n",
            "Epoch 52/100\n",
            "20/20 [==============================] - 0s 4ms/step - loss: 0.4358 - accuracy: 0.7785 - val_loss: 0.4634 - val_accuracy: 0.8117\n",
            "Epoch 53/100\n",
            "20/20 [==============================] - 0s 4ms/step - loss: 0.4351 - accuracy: 0.7785 - val_loss: 0.4627 - val_accuracy: 0.8117\n",
            "Epoch 54/100\n",
            "20/20 [==============================] - 0s 4ms/step - loss: 0.4344 - accuracy: 0.7752 - val_loss: 0.4622 - val_accuracy: 0.8117\n",
            "Epoch 55/100\n",
            "20/20 [==============================] - 0s 4ms/step - loss: 0.4339 - accuracy: 0.7752 - val_loss: 0.4616 - val_accuracy: 0.8117\n",
            "Epoch 56/100\n",
            "20/20 [==============================] - 0s 4ms/step - loss: 0.4337 - accuracy: 0.7801 - val_loss: 0.4621 - val_accuracy: 0.8117\n",
            "Epoch 57/100\n",
            "20/20 [==============================] - 0s 4ms/step - loss: 0.4329 - accuracy: 0.7801 - val_loss: 0.4628 - val_accuracy: 0.8117\n",
            "Epoch 58/100\n",
            "20/20 [==============================] - 0s 4ms/step - loss: 0.4325 - accuracy: 0.7801 - val_loss: 0.4623 - val_accuracy: 0.8052\n",
            "Epoch 59/100\n",
            "20/20 [==============================] - 0s 4ms/step - loss: 0.4319 - accuracy: 0.7801 - val_loss: 0.4620 - val_accuracy: 0.8052\n",
            "Epoch 60/100\n",
            "20/20 [==============================] - 0s 4ms/step - loss: 0.4313 - accuracy: 0.7801 - val_loss: 0.4621 - val_accuracy: 0.8117\n",
            "Epoch 61/100\n",
            "20/20 [==============================] - 0s 4ms/step - loss: 0.4311 - accuracy: 0.7834 - val_loss: 0.4621 - val_accuracy: 0.8052\n",
            "Epoch 62/100\n",
            "20/20 [==============================] - 0s 4ms/step - loss: 0.4309 - accuracy: 0.7818 - val_loss: 0.4619 - val_accuracy: 0.8117\n",
            "Epoch 63/100\n",
            "20/20 [==============================] - 0s 4ms/step - loss: 0.4301 - accuracy: 0.7769 - val_loss: 0.4622 - val_accuracy: 0.8052\n",
            "Epoch 64/100\n",
            "20/20 [==============================] - 0s 4ms/step - loss: 0.4296 - accuracy: 0.7850 - val_loss: 0.4627 - val_accuracy: 0.8052\n",
            "Epoch 65/100\n",
            "20/20 [==============================] - 0s 4ms/step - loss: 0.4290 - accuracy: 0.7850 - val_loss: 0.4621 - val_accuracy: 0.8052\n",
            "Epoch 66/100\n",
            "20/20 [==============================] - 0s 4ms/step - loss: 0.4288 - accuracy: 0.7850 - val_loss: 0.4614 - val_accuracy: 0.8117\n",
            "Epoch 67/100\n",
            "20/20 [==============================] - 0s 4ms/step - loss: 0.4282 - accuracy: 0.7736 - val_loss: 0.4616 - val_accuracy: 0.8117\n",
            "Epoch 68/100\n",
            "20/20 [==============================] - 0s 4ms/step - loss: 0.4278 - accuracy: 0.7866 - val_loss: 0.4631 - val_accuracy: 0.8052\n",
            "Epoch 69/100\n",
            "20/20 [==============================] - 0s 4ms/step - loss: 0.4268 - accuracy: 0.7834 - val_loss: 0.4631 - val_accuracy: 0.8052\n",
            "Epoch 70/100\n",
            "20/20 [==============================] - 0s 4ms/step - loss: 0.4268 - accuracy: 0.7801 - val_loss: 0.4632 - val_accuracy: 0.8052\n",
            "Epoch 71/100\n",
            "20/20 [==============================] - 0s 4ms/step - loss: 0.4264 - accuracy: 0.7785 - val_loss: 0.4629 - val_accuracy: 0.8052\n",
            "Epoch 72/100\n",
            "20/20 [==============================] - 0s 4ms/step - loss: 0.4258 - accuracy: 0.7818 - val_loss: 0.4626 - val_accuracy: 0.8052\n",
            "Epoch 73/100\n",
            "20/20 [==============================] - 0s 4ms/step - loss: 0.4253 - accuracy: 0.7834 - val_loss: 0.4629 - val_accuracy: 0.8052\n",
            "Epoch 74/100\n",
            "20/20 [==============================] - 0s 4ms/step - loss: 0.4249 - accuracy: 0.7801 - val_loss: 0.4632 - val_accuracy: 0.8052\n",
            "Epoch 75/100\n",
            "20/20 [==============================] - 0s 7ms/step - loss: 0.4246 - accuracy: 0.7850 - val_loss: 0.4635 - val_accuracy: 0.8052\n",
            "Epoch 76/100\n",
            "20/20 [==============================] - 0s 6ms/step - loss: 0.4240 - accuracy: 0.7834 - val_loss: 0.4633 - val_accuracy: 0.8052\n",
            "Epoch 77/100\n",
            "20/20 [==============================] - 0s 6ms/step - loss: 0.4236 - accuracy: 0.7915 - val_loss: 0.4637 - val_accuracy: 0.8052\n",
            "Epoch 78/100\n",
            "20/20 [==============================] - 0s 6ms/step - loss: 0.4233 - accuracy: 0.7899 - val_loss: 0.4629 - val_accuracy: 0.8052\n",
            "Epoch 79/100\n",
            "20/20 [==============================] - 0s 5ms/step - loss: 0.4230 - accuracy: 0.7866 - val_loss: 0.4623 - val_accuracy: 0.8052\n",
            "Epoch 80/100\n",
            "20/20 [==============================] - 0s 6ms/step - loss: 0.4229 - accuracy: 0.7899 - val_loss: 0.4622 - val_accuracy: 0.8052\n",
            "Epoch 81/100\n",
            "20/20 [==============================] - 0s 6ms/step - loss: 0.4216 - accuracy: 0.7915 - val_loss: 0.4614 - val_accuracy: 0.8117\n",
            "Epoch 82/100\n",
            "20/20 [==============================] - 0s 6ms/step - loss: 0.4216 - accuracy: 0.7899 - val_loss: 0.4613 - val_accuracy: 0.8117\n",
            "Epoch 83/100\n",
            "20/20 [==============================] - 0s 5ms/step - loss: 0.4214 - accuracy: 0.7932 - val_loss: 0.4617 - val_accuracy: 0.8117\n",
            "Epoch 84/100\n",
            "20/20 [==============================] - 0s 5ms/step - loss: 0.4210 - accuracy: 0.7915 - val_loss: 0.4618 - val_accuracy: 0.8052\n",
            "Epoch 85/100\n",
            "20/20 [==============================] - 0s 5ms/step - loss: 0.4210 - accuracy: 0.7915 - val_loss: 0.4620 - val_accuracy: 0.8117\n",
            "Epoch 86/100\n",
            "20/20 [==============================] - 0s 5ms/step - loss: 0.4203 - accuracy: 0.7932 - val_loss: 0.4611 - val_accuracy: 0.8117\n",
            "Epoch 87/100\n",
            "20/20 [==============================] - 0s 5ms/step - loss: 0.4201 - accuracy: 0.7948 - val_loss: 0.4601 - val_accuracy: 0.8052\n",
            "Epoch 88/100\n",
            "20/20 [==============================] - 0s 5ms/step - loss: 0.4193 - accuracy: 0.7964 - val_loss: 0.4608 - val_accuracy: 0.8117\n",
            "Epoch 89/100\n",
            "20/20 [==============================] - 0s 6ms/step - loss: 0.4190 - accuracy: 0.7932 - val_loss: 0.4611 - val_accuracy: 0.8117\n",
            "Epoch 90/100\n",
            "20/20 [==============================] - 0s 7ms/step - loss: 0.4188 - accuracy: 0.7948 - val_loss: 0.4617 - val_accuracy: 0.8117\n",
            "Epoch 91/100\n",
            "20/20 [==============================] - 0s 6ms/step - loss: 0.4183 - accuracy: 0.7915 - val_loss: 0.4616 - val_accuracy: 0.8117\n",
            "Epoch 92/100\n",
            "20/20 [==============================] - 0s 6ms/step - loss: 0.4183 - accuracy: 0.8013 - val_loss: 0.4618 - val_accuracy: 0.8117\n",
            "Epoch 93/100\n",
            "20/20 [==============================] - 0s 6ms/step - loss: 0.4175 - accuracy: 0.7997 - val_loss: 0.4601 - val_accuracy: 0.8117\n",
            "Epoch 94/100\n",
            "20/20 [==============================] - 0s 6ms/step - loss: 0.4172 - accuracy: 0.8013 - val_loss: 0.4609 - val_accuracy: 0.8117\n",
            "Epoch 95/100\n",
            "20/20 [==============================] - 0s 7ms/step - loss: 0.4169 - accuracy: 0.7964 - val_loss: 0.4602 - val_accuracy: 0.8117\n",
            "Epoch 96/100\n",
            "20/20 [==============================] - 0s 6ms/step - loss: 0.4161 - accuracy: 0.7997 - val_loss: 0.4593 - val_accuracy: 0.8117\n",
            "Epoch 97/100\n",
            "20/20 [==============================] - 0s 4ms/step - loss: 0.4164 - accuracy: 0.7932 - val_loss: 0.4594 - val_accuracy: 0.8117\n",
            "Epoch 98/100\n",
            "20/20 [==============================] - 0s 4ms/step - loss: 0.4158 - accuracy: 0.7997 - val_loss: 0.4586 - val_accuracy: 0.8117\n",
            "Epoch 99/100\n",
            "20/20 [==============================] - 0s 4ms/step - loss: 0.4153 - accuracy: 0.7980 - val_loss: 0.4588 - val_accuracy: 0.8117\n",
            "Epoch 100/100\n",
            "20/20 [==============================] - 0s 4ms/step - loss: 0.4152 - accuracy: 0.8013 - val_loss: 0.4584 - val_accuracy: 0.8117\n"
          ]
        },
        {
          "output_type": "execute_result",
          "data": {
            "text/plain": [
              "<keras.src.callbacks.History at 0x7d2f6a661b70>"
            ]
          },
          "metadata": {},
          "execution_count": 21
        }
      ]
    },
    {
      "cell_type": "code",
      "source": [
        "def build_model(hp):\n",
        "  model = Sequential()\n",
        "  units = hp.Int('units',min_value=8,max_value=128,step=8)\n",
        "  model.add(Dense(units=units,activation='relu',input_dim=8))\n",
        "  model.add(Dense(1,activation='sigmoid'))\n",
        "  model.compile(optimizer='rmsprop',loss='binary_crossentropy',metrics=['accuracy'])\n",
        "  return model\n"
      ],
      "metadata": {
        "id": "eN4HdBQPLmAX"
      },
      "execution_count": 36,
      "outputs": []
    },
    {
      "cell_type": "code",
      "source": [
        "tuner = kt.RandomSearch(build_model,\n",
        "                        objective='val_accuracy',\n",
        "                        max_trials=5,\n",
        "                        directory='mydir',\n",
        "                        project_name='shakti')"
      ],
      "metadata": {
        "id": "y_3T2uMZLmDE"
      },
      "execution_count": 37,
      "outputs": []
    },
    {
      "cell_type": "code",
      "source": [
        "tuner.search(X_train,Y_train,epochs=5,validation_data=(X_test,Y_test))"
      ],
      "metadata": {
        "colab": {
          "base_uri": "https://localhost:8080/"
        },
        "id": "-HxPRvOILmFn",
        "outputId": "bdd48e7c-ffc9-40fb-a3a7-08df1336d559"
      },
      "execution_count": 38,
      "outputs": [
        {
          "output_type": "stream",
          "name": "stdout",
          "text": [
            "Trial 5 Complete [00h 00m 02s]\n",
            "val_accuracy: 0.7922077775001526\n",
            "\n",
            "Best val_accuracy So Far: 0.8181818127632141\n",
            "Total elapsed time: 00h 00m 10s\n"
          ]
        }
      ]
    },
    {
      "cell_type": "code",
      "source": [
        "tuner.get_best_hyperparameters()[0].values"
      ],
      "metadata": {
        "colab": {
          "base_uri": "https://localhost:8080/"
        },
        "id": "CaQ5okZRLmII",
        "outputId": "725c9e56-8507-4baa-cfe4-25f17e45113d"
      },
      "execution_count": 39,
      "outputs": [
        {
          "output_type": "execute_result",
          "data": {
            "text/plain": [
              "{'units': 64}"
            ]
          },
          "metadata": {},
          "execution_count": 39
        }
      ]
    },
    {
      "cell_type": "code",
      "source": [
        "model=tuner.get_best_models(num_models=1)[0]"
      ],
      "metadata": {
        "id": "4B2lqjFALmLo"
      },
      "execution_count": 41,
      "outputs": []
    },
    {
      "cell_type": "code",
      "source": [
        "model.summary()"
      ],
      "metadata": {
        "colab": {
          "base_uri": "https://localhost:8080/"
        },
        "id": "dA0U8wJhQ63Y",
        "outputId": "884ba15a-ce9f-4f21-d8ac-10332e3a54a8"
      },
      "execution_count": 43,
      "outputs": [
        {
          "output_type": "stream",
          "name": "stdout",
          "text": [
            "Model: \"sequential\"\n",
            "_________________________________________________________________\n",
            " Layer (type)                Output Shape              Param #   \n",
            "=================================================================\n",
            " dense (Dense)               (None, 64)                576       \n",
            "                                                                 \n",
            " dense_1 (Dense)             (None, 1)                 65        \n",
            "                                                                 \n",
            "=================================================================\n",
            "Total params: 641 (2.50 KB)\n",
            "Trainable params: 641 (2.50 KB)\n",
            "Non-trainable params: 0 (0.00 Byte)\n",
            "_________________________________________________________________\n"
          ]
        }
      ]
    },
    {
      "cell_type": "code",
      "source": [
        "model.fit(X_train,Y_train,batch_size=32,epochs=100,initial_epoch=6,validation_data=(X_test,Y_test))"
      ],
      "metadata": {
        "colab": {
          "base_uri": "https://localhost:8080/"
        },
        "id": "hKWC7QrSQ6q6",
        "outputId": "ac9d5268-d388-4c9b-81dd-3e4638f1a7a2"
      },
      "execution_count": 44,
      "outputs": [
        {
          "output_type": "stream",
          "name": "stdout",
          "text": [
            "Epoch 7/100\n",
            "20/20 [==============================] - 1s 13ms/step - loss: 0.5184 - accuracy: 0.7573 - val_loss: 0.4953 - val_accuracy: 0.8182\n",
            "Epoch 8/100\n",
            "20/20 [==============================] - 0s 4ms/step - loss: 0.5013 - accuracy: 0.7573 - val_loss: 0.4828 - val_accuracy: 0.7857\n",
            "Epoch 9/100\n",
            "20/20 [==============================] - 0s 4ms/step - loss: 0.4895 - accuracy: 0.7687 - val_loss: 0.4752 - val_accuracy: 0.7987\n",
            "Epoch 10/100\n",
            "20/20 [==============================] - 0s 5ms/step - loss: 0.4803 - accuracy: 0.7752 - val_loss: 0.4674 - val_accuracy: 0.7792\n",
            "Epoch 11/100\n",
            "20/20 [==============================] - 0s 4ms/step - loss: 0.4736 - accuracy: 0.7850 - val_loss: 0.4624 - val_accuracy: 0.7792\n",
            "Epoch 12/100\n",
            "20/20 [==============================] - 0s 4ms/step - loss: 0.4676 - accuracy: 0.7850 - val_loss: 0.4586 - val_accuracy: 0.7857\n",
            "Epoch 13/100\n",
            "20/20 [==============================] - 0s 5ms/step - loss: 0.4631 - accuracy: 0.7818 - val_loss: 0.4566 - val_accuracy: 0.7922\n",
            "Epoch 14/100\n",
            "20/20 [==============================] - 0s 4ms/step - loss: 0.4601 - accuracy: 0.7834 - val_loss: 0.4559 - val_accuracy: 0.7922\n",
            "Epoch 15/100\n",
            "20/20 [==============================] - 0s 4ms/step - loss: 0.4574 - accuracy: 0.7818 - val_loss: 0.4550 - val_accuracy: 0.7922\n",
            "Epoch 16/100\n",
            "20/20 [==============================] - 0s 4ms/step - loss: 0.4555 - accuracy: 0.7850 - val_loss: 0.4546 - val_accuracy: 0.7987\n",
            "Epoch 17/100\n",
            "20/20 [==============================] - 0s 4ms/step - loss: 0.4536 - accuracy: 0.7818 - val_loss: 0.4529 - val_accuracy: 0.7987\n",
            "Epoch 18/100\n",
            "20/20 [==============================] - 0s 4ms/step - loss: 0.4517 - accuracy: 0.7834 - val_loss: 0.4528 - val_accuracy: 0.7922\n",
            "Epoch 19/100\n",
            "20/20 [==============================] - 0s 5ms/step - loss: 0.4497 - accuracy: 0.7818 - val_loss: 0.4528 - val_accuracy: 0.7857\n",
            "Epoch 20/100\n",
            "20/20 [==============================] - 0s 4ms/step - loss: 0.4483 - accuracy: 0.7818 - val_loss: 0.4527 - val_accuracy: 0.7922\n",
            "Epoch 21/100\n",
            "20/20 [==============================] - 0s 4ms/step - loss: 0.4475 - accuracy: 0.7850 - val_loss: 0.4522 - val_accuracy: 0.7987\n",
            "Epoch 22/100\n",
            "20/20 [==============================] - 0s 4ms/step - loss: 0.4464 - accuracy: 0.7785 - val_loss: 0.4515 - val_accuracy: 0.7987\n",
            "Epoch 23/100\n",
            "20/20 [==============================] - 0s 4ms/step - loss: 0.4451 - accuracy: 0.7834 - val_loss: 0.4522 - val_accuracy: 0.7987\n",
            "Epoch 24/100\n",
            "20/20 [==============================] - 0s 4ms/step - loss: 0.4439 - accuracy: 0.7883 - val_loss: 0.4519 - val_accuracy: 0.8052\n",
            "Epoch 25/100\n",
            "20/20 [==============================] - 0s 4ms/step - loss: 0.4424 - accuracy: 0.7834 - val_loss: 0.4516 - val_accuracy: 0.8052\n",
            "Epoch 26/100\n",
            "20/20 [==============================] - 0s 4ms/step - loss: 0.4412 - accuracy: 0.7866 - val_loss: 0.4507 - val_accuracy: 0.7987\n",
            "Epoch 27/100\n",
            "20/20 [==============================] - 0s 4ms/step - loss: 0.4406 - accuracy: 0.7899 - val_loss: 0.4498 - val_accuracy: 0.7987\n",
            "Epoch 28/100\n",
            "20/20 [==============================] - 0s 5ms/step - loss: 0.4396 - accuracy: 0.7932 - val_loss: 0.4503 - val_accuracy: 0.8117\n",
            "Epoch 29/100\n",
            "20/20 [==============================] - 0s 4ms/step - loss: 0.4389 - accuracy: 0.7883 - val_loss: 0.4496 - val_accuracy: 0.8052\n",
            "Epoch 30/100\n",
            "20/20 [==============================] - 0s 4ms/step - loss: 0.4378 - accuracy: 0.7997 - val_loss: 0.4502 - val_accuracy: 0.8117\n",
            "Epoch 31/100\n",
            "20/20 [==============================] - 0s 4ms/step - loss: 0.4368 - accuracy: 0.7948 - val_loss: 0.4482 - val_accuracy: 0.8052\n",
            "Epoch 32/100\n",
            "20/20 [==============================] - 0s 4ms/step - loss: 0.4362 - accuracy: 0.7915 - val_loss: 0.4505 - val_accuracy: 0.8117\n",
            "Epoch 33/100\n",
            "20/20 [==============================] - 0s 4ms/step - loss: 0.4350 - accuracy: 0.7964 - val_loss: 0.4509 - val_accuracy: 0.8117\n",
            "Epoch 34/100\n",
            "20/20 [==============================] - 0s 4ms/step - loss: 0.4345 - accuracy: 0.7964 - val_loss: 0.4505 - val_accuracy: 0.8117\n",
            "Epoch 35/100\n",
            "20/20 [==============================] - 0s 4ms/step - loss: 0.4337 - accuracy: 0.7980 - val_loss: 0.4488 - val_accuracy: 0.8117\n",
            "Epoch 36/100\n",
            "20/20 [==============================] - 0s 4ms/step - loss: 0.4335 - accuracy: 0.7915 - val_loss: 0.4490 - val_accuracy: 0.8117\n",
            "Epoch 37/100\n",
            "20/20 [==============================] - 0s 4ms/step - loss: 0.4327 - accuracy: 0.7932 - val_loss: 0.4484 - val_accuracy: 0.8117\n",
            "Epoch 38/100\n",
            "20/20 [==============================] - 0s 4ms/step - loss: 0.4319 - accuracy: 0.7997 - val_loss: 0.4470 - val_accuracy: 0.8182\n",
            "Epoch 39/100\n",
            "20/20 [==============================] - 0s 5ms/step - loss: 0.4311 - accuracy: 0.7948 - val_loss: 0.4465 - val_accuracy: 0.8182\n",
            "Epoch 40/100\n",
            "20/20 [==============================] - 0s 4ms/step - loss: 0.4305 - accuracy: 0.7932 - val_loss: 0.4482 - val_accuracy: 0.8117\n",
            "Epoch 41/100\n",
            "20/20 [==============================] - 0s 5ms/step - loss: 0.4297 - accuracy: 0.7980 - val_loss: 0.4487 - val_accuracy: 0.8052\n",
            "Epoch 42/100\n",
            "20/20 [==============================] - 0s 5ms/step - loss: 0.4294 - accuracy: 0.7964 - val_loss: 0.4482 - val_accuracy: 0.8117\n",
            "Epoch 43/100\n",
            "20/20 [==============================] - 0s 4ms/step - loss: 0.4281 - accuracy: 0.7980 - val_loss: 0.4496 - val_accuracy: 0.8052\n",
            "Epoch 44/100\n",
            "20/20 [==============================] - 0s 4ms/step - loss: 0.4273 - accuracy: 0.8029 - val_loss: 0.4483 - val_accuracy: 0.8117\n",
            "Epoch 45/100\n",
            "20/20 [==============================] - 0s 4ms/step - loss: 0.4273 - accuracy: 0.7980 - val_loss: 0.4486 - val_accuracy: 0.8182\n",
            "Epoch 46/100\n",
            "20/20 [==============================] - 0s 4ms/step - loss: 0.4262 - accuracy: 0.8013 - val_loss: 0.4503 - val_accuracy: 0.8117\n",
            "Epoch 47/100\n",
            "20/20 [==============================] - 0s 4ms/step - loss: 0.4255 - accuracy: 0.8029 - val_loss: 0.4474 - val_accuracy: 0.8247\n",
            "Epoch 48/100\n",
            "20/20 [==============================] - 0s 4ms/step - loss: 0.4248 - accuracy: 0.7997 - val_loss: 0.4469 - val_accuracy: 0.8247\n",
            "Epoch 49/100\n",
            "20/20 [==============================] - 0s 4ms/step - loss: 0.4250 - accuracy: 0.7980 - val_loss: 0.4468 - val_accuracy: 0.8182\n",
            "Epoch 50/100\n",
            "20/20 [==============================] - 0s 4ms/step - loss: 0.4234 - accuracy: 0.7980 - val_loss: 0.4467 - val_accuracy: 0.8182\n",
            "Epoch 51/100\n",
            "20/20 [==============================] - 0s 4ms/step - loss: 0.4234 - accuracy: 0.8029 - val_loss: 0.4461 - val_accuracy: 0.8247\n",
            "Epoch 52/100\n",
            "20/20 [==============================] - 0s 4ms/step - loss: 0.4229 - accuracy: 0.7997 - val_loss: 0.4466 - val_accuracy: 0.8247\n",
            "Epoch 53/100\n",
            "20/20 [==============================] - 0s 4ms/step - loss: 0.4222 - accuracy: 0.7997 - val_loss: 0.4478 - val_accuracy: 0.8052\n",
            "Epoch 54/100\n",
            "20/20 [==============================] - 0s 4ms/step - loss: 0.4215 - accuracy: 0.7997 - val_loss: 0.4489 - val_accuracy: 0.8052\n",
            "Epoch 55/100\n",
            "20/20 [==============================] - 0s 4ms/step - loss: 0.4207 - accuracy: 0.7997 - val_loss: 0.4478 - val_accuracy: 0.8247\n",
            "Epoch 56/100\n",
            "20/20 [==============================] - 0s 4ms/step - loss: 0.4204 - accuracy: 0.8013 - val_loss: 0.4483 - val_accuracy: 0.8117\n",
            "Epoch 57/100\n",
            "20/20 [==============================] - 0s 4ms/step - loss: 0.4200 - accuracy: 0.8029 - val_loss: 0.4491 - val_accuracy: 0.8052\n",
            "Epoch 58/100\n",
            "20/20 [==============================] - 0s 4ms/step - loss: 0.4197 - accuracy: 0.7980 - val_loss: 0.4469 - val_accuracy: 0.8247\n",
            "Epoch 59/100\n",
            "20/20 [==============================] - 0s 4ms/step - loss: 0.4188 - accuracy: 0.8078 - val_loss: 0.4472 - val_accuracy: 0.8182\n",
            "Epoch 60/100\n",
            "20/20 [==============================] - 0s 5ms/step - loss: 0.4182 - accuracy: 0.8013 - val_loss: 0.4480 - val_accuracy: 0.8052\n",
            "Epoch 61/100\n",
            "20/20 [==============================] - 0s 4ms/step - loss: 0.4179 - accuracy: 0.8062 - val_loss: 0.4491 - val_accuracy: 0.7987\n",
            "Epoch 62/100\n",
            "20/20 [==============================] - 0s 5ms/step - loss: 0.4177 - accuracy: 0.8078 - val_loss: 0.4468 - val_accuracy: 0.8052\n",
            "Epoch 63/100\n",
            "20/20 [==============================] - 0s 4ms/step - loss: 0.4167 - accuracy: 0.7997 - val_loss: 0.4464 - val_accuracy: 0.8052\n",
            "Epoch 64/100\n",
            "20/20 [==============================] - 0s 4ms/step - loss: 0.4160 - accuracy: 0.7980 - val_loss: 0.4452 - val_accuracy: 0.8182\n",
            "Epoch 65/100\n",
            "20/20 [==============================] - 0s 4ms/step - loss: 0.4160 - accuracy: 0.8029 - val_loss: 0.4456 - val_accuracy: 0.8312\n",
            "Epoch 66/100\n",
            "20/20 [==============================] - 0s 4ms/step - loss: 0.4152 - accuracy: 0.8111 - val_loss: 0.4451 - val_accuracy: 0.8247\n",
            "Epoch 67/100\n",
            "20/20 [==============================] - 0s 4ms/step - loss: 0.4144 - accuracy: 0.8062 - val_loss: 0.4452 - val_accuracy: 0.8182\n",
            "Epoch 68/100\n",
            "20/20 [==============================] - 0s 4ms/step - loss: 0.4148 - accuracy: 0.8078 - val_loss: 0.4462 - val_accuracy: 0.8247\n",
            "Epoch 69/100\n",
            "20/20 [==============================] - 0s 4ms/step - loss: 0.4136 - accuracy: 0.8062 - val_loss: 0.4453 - val_accuracy: 0.8247\n",
            "Epoch 70/100\n",
            "20/20 [==============================] - 0s 4ms/step - loss: 0.4129 - accuracy: 0.8046 - val_loss: 0.4450 - val_accuracy: 0.8247\n",
            "Epoch 71/100\n",
            "20/20 [==============================] - 0s 4ms/step - loss: 0.4128 - accuracy: 0.8111 - val_loss: 0.4437 - val_accuracy: 0.8247\n",
            "Epoch 72/100\n",
            "20/20 [==============================] - 0s 4ms/step - loss: 0.4128 - accuracy: 0.8046 - val_loss: 0.4438 - val_accuracy: 0.8312\n",
            "Epoch 73/100\n",
            "20/20 [==============================] - 0s 4ms/step - loss: 0.4121 - accuracy: 0.8078 - val_loss: 0.4456 - val_accuracy: 0.8247\n",
            "Epoch 74/100\n",
            "20/20 [==============================] - 0s 4ms/step - loss: 0.4118 - accuracy: 0.8078 - val_loss: 0.4449 - val_accuracy: 0.8117\n",
            "Epoch 75/100\n",
            "20/20 [==============================] - 0s 4ms/step - loss: 0.4112 - accuracy: 0.8143 - val_loss: 0.4445 - val_accuracy: 0.8247\n",
            "Epoch 76/100\n",
            "20/20 [==============================] - 0s 4ms/step - loss: 0.4105 - accuracy: 0.8094 - val_loss: 0.4446 - val_accuracy: 0.8117\n",
            "Epoch 77/100\n",
            "20/20 [==============================] - 0s 4ms/step - loss: 0.4100 - accuracy: 0.8062 - val_loss: 0.4438 - val_accuracy: 0.8377\n",
            "Epoch 78/100\n",
            "20/20 [==============================] - 0s 4ms/step - loss: 0.4095 - accuracy: 0.8127 - val_loss: 0.4420 - val_accuracy: 0.8247\n",
            "Epoch 79/100\n",
            "20/20 [==============================] - 0s 4ms/step - loss: 0.4093 - accuracy: 0.8094 - val_loss: 0.4419 - val_accuracy: 0.8312\n",
            "Epoch 80/100\n",
            "20/20 [==============================] - 0s 4ms/step - loss: 0.4085 - accuracy: 0.8127 - val_loss: 0.4417 - val_accuracy: 0.8247\n",
            "Epoch 81/100\n",
            "20/20 [==============================] - 0s 4ms/step - loss: 0.4082 - accuracy: 0.8143 - val_loss: 0.4420 - val_accuracy: 0.8312\n",
            "Epoch 82/100\n",
            "20/20 [==============================] - 0s 4ms/step - loss: 0.4082 - accuracy: 0.8143 - val_loss: 0.4440 - val_accuracy: 0.8312\n",
            "Epoch 83/100\n",
            "20/20 [==============================] - 0s 4ms/step - loss: 0.4072 - accuracy: 0.8192 - val_loss: 0.4439 - val_accuracy: 0.8182\n",
            "Epoch 84/100\n",
            "20/20 [==============================] - 0s 4ms/step - loss: 0.4070 - accuracy: 0.8176 - val_loss: 0.4427 - val_accuracy: 0.8312\n",
            "Epoch 85/100\n",
            "20/20 [==============================] - 0s 5ms/step - loss: 0.4065 - accuracy: 0.8160 - val_loss: 0.4420 - val_accuracy: 0.8312\n",
            "Epoch 86/100\n",
            "20/20 [==============================] - 0s 4ms/step - loss: 0.4057 - accuracy: 0.8176 - val_loss: 0.4415 - val_accuracy: 0.8312\n",
            "Epoch 87/100\n",
            "20/20 [==============================] - 0s 4ms/step - loss: 0.4051 - accuracy: 0.8176 - val_loss: 0.4450 - val_accuracy: 0.8182\n",
            "Epoch 88/100\n",
            "20/20 [==============================] - 0s 4ms/step - loss: 0.4050 - accuracy: 0.8257 - val_loss: 0.4443 - val_accuracy: 0.8117\n",
            "Epoch 89/100\n",
            "20/20 [==============================] - 0s 4ms/step - loss: 0.4043 - accuracy: 0.8257 - val_loss: 0.4443 - val_accuracy: 0.8117\n",
            "Epoch 90/100\n",
            "20/20 [==============================] - 0s 4ms/step - loss: 0.4041 - accuracy: 0.8208 - val_loss: 0.4440 - val_accuracy: 0.8182\n",
            "Epoch 91/100\n",
            "20/20 [==============================] - 0s 4ms/step - loss: 0.4035 - accuracy: 0.8192 - val_loss: 0.4455 - val_accuracy: 0.8182\n",
            "Epoch 92/100\n",
            "20/20 [==============================] - 0s 4ms/step - loss: 0.4033 - accuracy: 0.8192 - val_loss: 0.4467 - val_accuracy: 0.8182\n",
            "Epoch 93/100\n",
            "20/20 [==============================] - 0s 5ms/step - loss: 0.4027 - accuracy: 0.8176 - val_loss: 0.4449 - val_accuracy: 0.8247\n",
            "Epoch 94/100\n",
            "20/20 [==============================] - 0s 6ms/step - loss: 0.4015 - accuracy: 0.8274 - val_loss: 0.4439 - val_accuracy: 0.8247\n",
            "Epoch 95/100\n",
            "20/20 [==============================] - 0s 6ms/step - loss: 0.4023 - accuracy: 0.8176 - val_loss: 0.4436 - val_accuracy: 0.8117\n",
            "Epoch 96/100\n",
            "20/20 [==============================] - 0s 8ms/step - loss: 0.4016 - accuracy: 0.8257 - val_loss: 0.4438 - val_accuracy: 0.8247\n",
            "Epoch 97/100\n",
            "20/20 [==============================] - 0s 6ms/step - loss: 0.4016 - accuracy: 0.8225 - val_loss: 0.4423 - val_accuracy: 0.8117\n",
            "Epoch 98/100\n",
            "20/20 [==============================] - 0s 6ms/step - loss: 0.4007 - accuracy: 0.8208 - val_loss: 0.4431 - val_accuracy: 0.8117\n",
            "Epoch 99/100\n",
            "20/20 [==============================] - 0s 6ms/step - loss: 0.3999 - accuracy: 0.8192 - val_loss: 0.4406 - val_accuracy: 0.8247\n",
            "Epoch 100/100\n",
            "20/20 [==============================] - 0s 6ms/step - loss: 0.3999 - accuracy: 0.8176 - val_loss: 0.4439 - val_accuracy: 0.8117\n"
          ]
        },
        {
          "output_type": "execute_result",
          "data": {
            "text/plain": [
              "<keras.src.callbacks.History at 0x7d2f578ea740>"
            ]
          },
          "metadata": {},
          "execution_count": 44
        }
      ]
    },
    {
      "cell_type": "code",
      "source": [
        "def build_model(hp):\n",
        "  model=Sequential()\n",
        "  model.add(Dense(64,activation='relu',input_dim=8))\n",
        "  for i in range (hp.Int('num_layers',min_value=1,max_value=10)):\n",
        "    model.add(Dense(64,activation='relu'))\n",
        "  model.add(Dense(1,activation='sigmoid'))\n",
        "  model.compile(optimizer='rmsprop',loss='binary_crossentropy',metrics=['accuracy'])\n",
        "  return model\n"
      ],
      "metadata": {
        "id": "3278Xu1ZUg_K"
      },
      "execution_count": 45,
      "outputs": []
    },
    {
      "cell_type": "code",
      "source": [
        "tuner = kt.RandomSearch(build_model,\n",
        "                        objective='val_accuracy',\n",
        "                        max_trials=5,\n",
        "                        directory='mydir',\n",
        "                        project_name='shakti_layers')"
      ],
      "metadata": {
        "id": "GfEY0FRhUhQI"
      },
      "execution_count": 47,
      "outputs": []
    },
    {
      "cell_type": "code",
      "source": [
        "tuner.search(X_train,Y_train,epochs=5,validation_data=(X_test,Y_test))"
      ],
      "metadata": {
        "colab": {
          "base_uri": "https://localhost:8080/"
        },
        "id": "Fz52e698Uhaf",
        "outputId": "4eabbbce-745f-4d1d-dbc4-c4401dde414f"
      },
      "execution_count": 48,
      "outputs": [
        {
          "output_type": "stream",
          "name": "stdout",
          "text": [
            "Trial 5 Complete [00h 00m 03s]\n",
            "val_accuracy: 0.798701286315918\n",
            "\n",
            "Best val_accuracy So Far: 0.8181818127632141\n",
            "Total elapsed time: 00h 00m 14s\n"
          ]
        }
      ]
    },
    {
      "cell_type": "code",
      "source": [
        "tuner.get_best_hyperparameters()[0].values"
      ],
      "metadata": {
        "colab": {
          "base_uri": "https://localhost:8080/"
        },
        "id": "25OKIda1Uhk8",
        "outputId": "eb38e8fd-b127-41c5-95d2-7a20cab22df8"
      },
      "execution_count": 49,
      "outputs": [
        {
          "output_type": "execute_result",
          "data": {
            "text/plain": [
              "{'num_layers': 9}"
            ]
          },
          "metadata": {},
          "execution_count": 49
        }
      ]
    },
    {
      "cell_type": "code",
      "source": [
        "model = tuner.get_best_models(num_models=1)[0]"
      ],
      "metadata": {
        "id": "VsOCd4IjXPwM"
      },
      "execution_count": 50,
      "outputs": []
    },
    {
      "cell_type": "code",
      "source": [
        "model.summary()"
      ],
      "metadata": {
        "colab": {
          "base_uri": "https://localhost:8080/"
        },
        "id": "vE1DkYMoXP2a",
        "outputId": "755aff93-a744-4f2e-fdc0-98a8eaad8683"
      },
      "execution_count": 51,
      "outputs": [
        {
          "output_type": "stream",
          "name": "stdout",
          "text": [
            "Model: \"sequential\"\n",
            "_________________________________________________________________\n",
            " Layer (type)                Output Shape              Param #   \n",
            "=================================================================\n",
            " dense (Dense)               (None, 64)                576       \n",
            "                                                                 \n",
            " dense_1 (Dense)             (None, 64)                4160      \n",
            "                                                                 \n",
            " dense_2 (Dense)             (None, 64)                4160      \n",
            "                                                                 \n",
            " dense_3 (Dense)             (None, 64)                4160      \n",
            "                                                                 \n",
            " dense_4 (Dense)             (None, 64)                4160      \n",
            "                                                                 \n",
            " dense_5 (Dense)             (None, 64)                4160      \n",
            "                                                                 \n",
            " dense_6 (Dense)             (None, 64)                4160      \n",
            "                                                                 \n",
            " dense_7 (Dense)             (None, 64)                4160      \n",
            "                                                                 \n",
            " dense_8 (Dense)             (None, 64)                4160      \n",
            "                                                                 \n",
            " dense_9 (Dense)             (None, 64)                4160      \n",
            "                                                                 \n",
            " dense_10 (Dense)            (None, 1)                 65        \n",
            "                                                                 \n",
            "=================================================================\n",
            "Total params: 38081 (148.75 KB)\n",
            "Trainable params: 38081 (148.75 KB)\n",
            "Non-trainable params: 0 (0.00 Byte)\n",
            "_________________________________________________________________\n"
          ]
        }
      ]
    },
    {
      "cell_type": "code",
      "source": [
        "model.fit(X_train,Y_train,batch_size=32,epochs=100,initial_epoch=6,validation_data=(X_test,Y_test))"
      ],
      "metadata": {
        "colab": {
          "base_uri": "https://localhost:8080/"
        },
        "id": "PjHyrQkyXQFU",
        "outputId": "58c68581-96bb-4de6-ccbc-988da66e0627"
      },
      "execution_count": 52,
      "outputs": [
        {
          "output_type": "stream",
          "name": "stdout",
          "text": [
            "Epoch 7/100\n",
            "20/20 [==============================] - 2s 17ms/step - loss: 0.4507 - accuracy: 0.7687 - val_loss: 0.4860 - val_accuracy: 0.7857\n",
            "Epoch 8/100\n",
            "20/20 [==============================] - 0s 6ms/step - loss: 0.4395 - accuracy: 0.7785 - val_loss: 0.4811 - val_accuracy: 0.7987\n",
            "Epoch 9/100\n",
            "20/20 [==============================] - 0s 7ms/step - loss: 0.4222 - accuracy: 0.8078 - val_loss: 0.4989 - val_accuracy: 0.7792\n",
            "Epoch 10/100\n",
            "20/20 [==============================] - 0s 9ms/step - loss: 0.4172 - accuracy: 0.8029 - val_loss: 0.4804 - val_accuracy: 0.8117\n",
            "Epoch 11/100\n",
            "20/20 [==============================] - 0s 9ms/step - loss: 0.4154 - accuracy: 0.7932 - val_loss: 0.4873 - val_accuracy: 0.7857\n",
            "Epoch 12/100\n",
            "20/20 [==============================] - 0s 8ms/step - loss: 0.3948 - accuracy: 0.8208 - val_loss: 0.5700 - val_accuracy: 0.7857\n",
            "Epoch 13/100\n",
            "20/20 [==============================] - 0s 8ms/step - loss: 0.3972 - accuracy: 0.8176 - val_loss: 0.4822 - val_accuracy: 0.7792\n",
            "Epoch 14/100\n",
            "20/20 [==============================] - 0s 7ms/step - loss: 0.3651 - accuracy: 0.8339 - val_loss: 0.5098 - val_accuracy: 0.7532\n",
            "Epoch 15/100\n",
            "20/20 [==============================] - 0s 9ms/step - loss: 0.3671 - accuracy: 0.8420 - val_loss: 0.5267 - val_accuracy: 0.8052\n",
            "Epoch 16/100\n",
            "20/20 [==============================] - 0s 9ms/step - loss: 0.3418 - accuracy: 0.8502 - val_loss: 0.5377 - val_accuracy: 0.7468\n",
            "Epoch 17/100\n",
            "20/20 [==============================] - 0s 8ms/step - loss: 0.3375 - accuracy: 0.8583 - val_loss: 0.5406 - val_accuracy: 0.7662\n",
            "Epoch 18/100\n",
            "20/20 [==============================] - 0s 8ms/step - loss: 0.3404 - accuracy: 0.8518 - val_loss: 0.5595 - val_accuracy: 0.7857\n",
            "Epoch 19/100\n",
            "20/20 [==============================] - 0s 8ms/step - loss: 0.3089 - accuracy: 0.8811 - val_loss: 0.5667 - val_accuracy: 0.7792\n",
            "Epoch 20/100\n",
            "20/20 [==============================] - 0s 8ms/step - loss: 0.3026 - accuracy: 0.8664 - val_loss: 0.5451 - val_accuracy: 0.7792\n",
            "Epoch 21/100\n",
            "20/20 [==============================] - 0s 11ms/step - loss: 0.2951 - accuracy: 0.8746 - val_loss: 0.7513 - val_accuracy: 0.7403\n",
            "Epoch 22/100\n",
            "20/20 [==============================] - 0s 8ms/step - loss: 0.2669 - accuracy: 0.8941 - val_loss: 0.6941 - val_accuracy: 0.7208\n",
            "Epoch 23/100\n",
            "20/20 [==============================] - 0s 9ms/step - loss: 0.2833 - accuracy: 0.8893 - val_loss: 0.5793 - val_accuracy: 0.7662\n",
            "Epoch 24/100\n",
            "20/20 [==============================] - 0s 8ms/step - loss: 0.2480 - accuracy: 0.8958 - val_loss: 0.5308 - val_accuracy: 0.7857\n",
            "Epoch 25/100\n",
            "20/20 [==============================] - 0s 5ms/step - loss: 0.2461 - accuracy: 0.9039 - val_loss: 0.5913 - val_accuracy: 0.7987\n",
            "Epoch 26/100\n",
            "20/20 [==============================] - 0s 6ms/step - loss: 0.1945 - accuracy: 0.9202 - val_loss: 0.6329 - val_accuracy: 0.7662\n",
            "Epoch 27/100\n",
            "20/20 [==============================] - 0s 6ms/step - loss: 0.2146 - accuracy: 0.9104 - val_loss: 0.6840 - val_accuracy: 0.7727\n",
            "Epoch 28/100\n",
            "20/20 [==============================] - 0s 7ms/step - loss: 0.1782 - accuracy: 0.9381 - val_loss: 0.7052 - val_accuracy: 0.6883\n",
            "Epoch 29/100\n",
            "20/20 [==============================] - 0s 5ms/step - loss: 0.2508 - accuracy: 0.8844 - val_loss: 0.5833 - val_accuracy: 0.7987\n",
            "Epoch 30/100\n",
            "20/20 [==============================] - 0s 6ms/step - loss: 0.1318 - accuracy: 0.9560 - val_loss: 0.7324 - val_accuracy: 0.8052\n",
            "Epoch 31/100\n",
            "20/20 [==============================] - 0s 6ms/step - loss: 0.1893 - accuracy: 0.9251 - val_loss: 0.7939 - val_accuracy: 0.7662\n",
            "Epoch 32/100\n",
            "20/20 [==============================] - 0s 5ms/step - loss: 0.1706 - accuracy: 0.9316 - val_loss: 0.7936 - val_accuracy: 0.7597\n",
            "Epoch 33/100\n",
            "20/20 [==============================] - 0s 5ms/step - loss: 0.1517 - accuracy: 0.9479 - val_loss: 0.9960 - val_accuracy: 0.7208\n",
            "Epoch 34/100\n",
            "20/20 [==============================] - 0s 5ms/step - loss: 0.1180 - accuracy: 0.9544 - val_loss: 0.8417 - val_accuracy: 0.7532\n",
            "Epoch 35/100\n",
            "20/20 [==============================] - 0s 5ms/step - loss: 0.1771 - accuracy: 0.9349 - val_loss: 0.8303 - val_accuracy: 0.7597\n",
            "Epoch 36/100\n",
            "20/20 [==============================] - 0s 5ms/step - loss: 0.1237 - accuracy: 0.9446 - val_loss: 0.8378 - val_accuracy: 0.7922\n",
            "Epoch 37/100\n",
            "20/20 [==============================] - 0s 5ms/step - loss: 0.1550 - accuracy: 0.9414 - val_loss: 0.8355 - val_accuracy: 0.7922\n",
            "Epoch 38/100\n",
            "20/20 [==============================] - 0s 6ms/step - loss: 0.1129 - accuracy: 0.9544 - val_loss: 0.9563 - val_accuracy: 0.7597\n",
            "Epoch 39/100\n",
            "20/20 [==============================] - 0s 6ms/step - loss: 0.1566 - accuracy: 0.9397 - val_loss: 0.7772 - val_accuracy: 0.7532\n",
            "Epoch 40/100\n",
            "20/20 [==============================] - 0s 5ms/step - loss: 0.0645 - accuracy: 0.9821 - val_loss: 1.2996 - val_accuracy: 0.7208\n",
            "Epoch 41/100\n",
            "20/20 [==============================] - 0s 5ms/step - loss: 0.1405 - accuracy: 0.9495 - val_loss: 0.7756 - val_accuracy: 0.7922\n",
            "Epoch 42/100\n",
            "20/20 [==============================] - 0s 5ms/step - loss: 0.0577 - accuracy: 0.9805 - val_loss: 1.1356 - val_accuracy: 0.7532\n",
            "Epoch 43/100\n",
            "20/20 [==============================] - 0s 5ms/step - loss: 0.1176 - accuracy: 0.9463 - val_loss: 1.0772 - val_accuracy: 0.7468\n",
            "Epoch 44/100\n",
            "20/20 [==============================] - 0s 5ms/step - loss: 0.1330 - accuracy: 0.9430 - val_loss: 0.9876 - val_accuracy: 0.7727\n",
            "Epoch 45/100\n",
            "20/20 [==============================] - 0s 5ms/step - loss: 0.0585 - accuracy: 0.9739 - val_loss: 1.4383 - val_accuracy: 0.6753\n",
            "Epoch 46/100\n",
            "20/20 [==============================] - 0s 5ms/step - loss: 0.0839 - accuracy: 0.9723 - val_loss: 0.9234 - val_accuracy: 0.7922\n",
            "Epoch 47/100\n",
            "20/20 [==============================] - 0s 6ms/step - loss: 0.0326 - accuracy: 0.9886 - val_loss: 1.2154 - val_accuracy: 0.7792\n",
            "Epoch 48/100\n",
            "20/20 [==============================] - 0s 5ms/step - loss: 0.0905 - accuracy: 0.9788 - val_loss: 1.0516 - val_accuracy: 0.7727\n",
            "Epoch 49/100\n",
            "20/20 [==============================] - 0s 5ms/step - loss: 0.1310 - accuracy: 0.9609 - val_loss: 0.9351 - val_accuracy: 0.7792\n",
            "Epoch 50/100\n",
            "20/20 [==============================] - 0s 5ms/step - loss: 0.0210 - accuracy: 0.9919 - val_loss: 1.2050 - val_accuracy: 0.7792\n",
            "Epoch 51/100\n",
            "20/20 [==============================] - 0s 5ms/step - loss: 0.0989 - accuracy: 0.9658 - val_loss: 1.2064 - val_accuracy: 0.7403\n",
            "Epoch 52/100\n",
            "20/20 [==============================] - 0s 6ms/step - loss: 0.0946 - accuracy: 0.9674 - val_loss: 1.0902 - val_accuracy: 0.7857\n",
            "Epoch 53/100\n",
            "20/20 [==============================] - 0s 6ms/step - loss: 0.0581 - accuracy: 0.9805 - val_loss: 1.3182 - val_accuracy: 0.7727\n",
            "Epoch 54/100\n",
            "20/20 [==============================] - 0s 5ms/step - loss: 0.0707 - accuracy: 0.9805 - val_loss: 1.0531 - val_accuracy: 0.7792\n",
            "Epoch 55/100\n",
            "20/20 [==============================] - 0s 6ms/step - loss: 0.0765 - accuracy: 0.9805 - val_loss: 1.0749 - val_accuracy: 0.7792\n",
            "Epoch 56/100\n",
            "20/20 [==============================] - 0s 6ms/step - loss: 0.0926 - accuracy: 0.9658 - val_loss: 0.8924 - val_accuracy: 0.7727\n",
            "Epoch 57/100\n",
            "20/20 [==============================] - 0s 5ms/step - loss: 0.0552 - accuracy: 0.9805 - val_loss: 0.9372 - val_accuracy: 0.7597\n",
            "Epoch 58/100\n",
            "20/20 [==============================] - 0s 5ms/step - loss: 0.0121 - accuracy: 0.9967 - val_loss: 1.1997 - val_accuracy: 0.7792\n",
            "Epoch 59/100\n",
            "20/20 [==============================] - 0s 5ms/step - loss: 0.0759 - accuracy: 0.9821 - val_loss: 1.1557 - val_accuracy: 0.7597\n",
            "Epoch 60/100\n",
            "20/20 [==============================] - 0s 6ms/step - loss: 0.0770 - accuracy: 0.9691 - val_loss: 1.1482 - val_accuracy: 0.7532\n",
            "Epoch 61/100\n",
            "20/20 [==============================] - 0s 5ms/step - loss: 0.0463 - accuracy: 0.9821 - val_loss: 1.0830 - val_accuracy: 0.7987\n",
            "Epoch 62/100\n",
            "20/20 [==============================] - 0s 5ms/step - loss: 0.0313 - accuracy: 0.9902 - val_loss: 1.3142 - val_accuracy: 0.7662\n",
            "Epoch 63/100\n",
            "20/20 [==============================] - 0s 5ms/step - loss: 0.0393 - accuracy: 0.9821 - val_loss: 1.6307 - val_accuracy: 0.7468\n",
            "Epoch 64/100\n",
            "20/20 [==============================] - 0s 6ms/step - loss: 0.0718 - accuracy: 0.9707 - val_loss: 1.2162 - val_accuracy: 0.7987\n",
            "Epoch 65/100\n",
            "20/20 [==============================] - 0s 5ms/step - loss: 0.0262 - accuracy: 0.9886 - val_loss: 1.5829 - val_accuracy: 0.8052\n",
            "Epoch 66/100\n",
            "20/20 [==============================] - 0s 5ms/step - loss: 0.0474 - accuracy: 0.9837 - val_loss: 1.4382 - val_accuracy: 0.7468\n",
            "Epoch 67/100\n",
            "20/20 [==============================] - 0s 5ms/step - loss: 0.0345 - accuracy: 0.9886 - val_loss: 1.5004 - val_accuracy: 0.7727\n",
            "Epoch 68/100\n",
            "20/20 [==============================] - 0s 5ms/step - loss: 0.1114 - accuracy: 0.9756 - val_loss: 1.2168 - val_accuracy: 0.7792\n",
            "Epoch 69/100\n",
            "20/20 [==============================] - 0s 6ms/step - loss: 0.0194 - accuracy: 0.9951 - val_loss: 1.7458 - val_accuracy: 0.7727\n",
            "Epoch 70/100\n",
            "20/20 [==============================] - 0s 5ms/step - loss: 0.0571 - accuracy: 0.9837 - val_loss: 1.2726 - val_accuracy: 0.8117\n",
            "Epoch 71/100\n",
            "20/20 [==============================] - 0s 5ms/step - loss: 0.0173 - accuracy: 0.9951 - val_loss: 1.5472 - val_accuracy: 0.7597\n",
            "Epoch 72/100\n",
            "20/20 [==============================] - 0s 6ms/step - loss: 0.0750 - accuracy: 0.9788 - val_loss: 1.3115 - val_accuracy: 0.7857\n",
            "Epoch 73/100\n",
            "20/20 [==============================] - 0s 7ms/step - loss: 0.0506 - accuracy: 0.9837 - val_loss: 1.8827 - val_accuracy: 0.7468\n",
            "Epoch 74/100\n",
            "20/20 [==============================] - 0s 5ms/step - loss: 0.0764 - accuracy: 0.9772 - val_loss: 1.2334 - val_accuracy: 0.7857\n",
            "Epoch 75/100\n",
            "20/20 [==============================] - 0s 6ms/step - loss: 0.0735 - accuracy: 0.9756 - val_loss: 1.1218 - val_accuracy: 0.7597\n",
            "Epoch 76/100\n",
            "20/20 [==============================] - 0s 5ms/step - loss: 0.0155 - accuracy: 0.9967 - val_loss: 1.3041 - val_accuracy: 0.7792\n",
            "Epoch 77/100\n",
            "20/20 [==============================] - 0s 6ms/step - loss: 0.0064 - accuracy: 0.9984 - val_loss: 1.5376 - val_accuracy: 0.7857\n",
            "Epoch 78/100\n",
            "20/20 [==============================] - 0s 6ms/step - loss: 0.0090 - accuracy: 0.9967 - val_loss: 1.5794 - val_accuracy: 0.7922\n",
            "Epoch 79/100\n",
            "20/20 [==============================] - 0s 5ms/step - loss: 0.0633 - accuracy: 0.9788 - val_loss: 1.2851 - val_accuracy: 0.7792\n",
            "Epoch 80/100\n",
            "20/20 [==============================] - 0s 5ms/step - loss: 0.0374 - accuracy: 0.9870 - val_loss: 1.4023 - val_accuracy: 0.7727\n",
            "Epoch 81/100\n",
            "20/20 [==============================] - 0s 6ms/step - loss: 0.0202 - accuracy: 0.9886 - val_loss: 1.5372 - val_accuracy: 0.7338\n",
            "Epoch 82/100\n",
            "20/20 [==============================] - 0s 6ms/step - loss: 0.0167 - accuracy: 0.9935 - val_loss: 1.5802 - val_accuracy: 0.7403\n",
            "Epoch 83/100\n",
            "20/20 [==============================] - 0s 6ms/step - loss: 0.0307 - accuracy: 0.9870 - val_loss: 1.7330 - val_accuracy: 0.7403\n",
            "Epoch 84/100\n",
            "20/20 [==============================] - 0s 5ms/step - loss: 0.0279 - accuracy: 0.9902 - val_loss: 1.4997 - val_accuracy: 0.7662\n",
            "Epoch 85/100\n",
            "20/20 [==============================] - 0s 5ms/step - loss: 0.0277 - accuracy: 0.9870 - val_loss: 2.0955 - val_accuracy: 0.7662\n",
            "Epoch 86/100\n",
            "20/20 [==============================] - 0s 5ms/step - loss: 0.0225 - accuracy: 0.9902 - val_loss: 1.5586 - val_accuracy: 0.7922\n",
            "Epoch 87/100\n",
            "20/20 [==============================] - 0s 5ms/step - loss: 0.0345 - accuracy: 0.9902 - val_loss: 1.6308 - val_accuracy: 0.7532\n",
            "Epoch 88/100\n",
            "20/20 [==============================] - 0s 6ms/step - loss: 0.0304 - accuracy: 0.9951 - val_loss: 1.5659 - val_accuracy: 0.7922\n",
            "Epoch 89/100\n",
            "20/20 [==============================] - 0s 5ms/step - loss: 0.0613 - accuracy: 0.9805 - val_loss: 1.3401 - val_accuracy: 0.7468\n",
            "Epoch 90/100\n",
            "20/20 [==============================] - 0s 5ms/step - loss: 0.0480 - accuracy: 0.9837 - val_loss: 1.3938 - val_accuracy: 0.7727\n",
            "Epoch 91/100\n",
            "20/20 [==============================] - 0s 5ms/step - loss: 0.0058 - accuracy: 0.9984 - val_loss: 1.6233 - val_accuracy: 0.7597\n",
            "Epoch 92/100\n",
            "20/20 [==============================] - 0s 5ms/step - loss: 0.0045 - accuracy: 0.9984 - val_loss: 1.8387 - val_accuracy: 0.7468\n",
            "Epoch 93/100\n",
            "20/20 [==============================] - 0s 5ms/step - loss: 0.0308 - accuracy: 0.9853 - val_loss: 2.0177 - val_accuracy: 0.7727\n",
            "Epoch 94/100\n",
            "20/20 [==============================] - 0s 6ms/step - loss: 0.0498 - accuracy: 0.9853 - val_loss: 1.4107 - val_accuracy: 0.7468\n",
            "Epoch 95/100\n",
            "20/20 [==============================] - 0s 5ms/step - loss: 0.0545 - accuracy: 0.9805 - val_loss: 1.3918 - val_accuracy: 0.7403\n",
            "Epoch 96/100\n",
            "20/20 [==============================] - 0s 5ms/step - loss: 0.0092 - accuracy: 0.9951 - val_loss: 1.5398 - val_accuracy: 0.7532\n",
            "Epoch 97/100\n",
            "20/20 [==============================] - 0s 6ms/step - loss: 0.0055 - accuracy: 0.9951 - val_loss: 2.4613 - val_accuracy: 0.7468\n",
            "Epoch 98/100\n",
            "20/20 [==============================] - 0s 5ms/step - loss: 0.0720 - accuracy: 0.9772 - val_loss: 1.5078 - val_accuracy: 0.7403\n",
            "Epoch 99/100\n",
            "20/20 [==============================] - 0s 5ms/step - loss: 0.0264 - accuracy: 0.9919 - val_loss: 1.4440 - val_accuracy: 0.7662\n",
            "Epoch 100/100\n",
            "20/20 [==============================] - 0s 6ms/step - loss: 0.0089 - accuracy: 0.9967 - val_loss: 2.2500 - val_accuracy: 0.7403\n"
          ]
        },
        {
          "output_type": "execute_result",
          "data": {
            "text/plain": [
              "<keras.src.callbacks.History at 0x7d2f69aa66e0>"
            ]
          },
          "metadata": {},
          "execution_count": 52
        }
      ]
    },
    {
      "cell_type": "code",
      "source": [
        "def build_model(hp):\n",
        "  model = Sequential()\n",
        "  count = 0\n",
        "  for i in range(hp.Int('num_layers',min_value=1,max_value=10)):\n",
        "    if count == 0:\n",
        "      model.add(\n",
        "          Dense(\n",
        "              hp.Int('units'+ str(i),min_value=8,max_value=128,step=8),\n",
        "              activation= hp.Choice('activation' + str(i),values=['relu','tanh','sigmoid']),\n",
        "              input_dim=8\n",
        "              )\n",
        "          )\n",
        "    else:\n",
        "      model.add(\n",
        "        Dense(\n",
        "            hp.Int('units'+ str(i),min_value=8,max_value=128,step=8),\n",
        "            activation= hp.Choice('activation' + str(i),values=['relu','tanh','sigmoid'])\n",
        "            )\n",
        "        )\n",
        "    count +=1\n",
        "  model.add(Dense(1,activation='sigmoid'))\n",
        "  model.compile(optimizer=hp.Choice('optimizer',values=['rmsprop','adam','sgd','nadam','adadelta']),\n",
        "                loss='binary_crossentropy',\n",
        "                metrics=['accuracy'])\n",
        "  return model"
      ],
      "metadata": {
        "id": "8JWiY6BxbRvI"
      },
      "execution_count": 64,
      "outputs": []
    },
    {
      "cell_type": "code",
      "source": [
        "tuner = kt.RandomSearch(build_model,\n",
        "                        objective='val_accuracy',\n",
        "                        max_trials=5,\n",
        "                        directory = 'mydir',\n",
        "                        project_name='final_shakti')"
      ],
      "metadata": {
        "id": "hAVVfP6RfJ18"
      },
      "execution_count": 66,
      "outputs": []
    },
    {
      "cell_type": "code",
      "source": [
        "tuner.search(X_train,Y_train,epochs=5,validation_data=(X_test,Y_test))"
      ],
      "metadata": {
        "colab": {
          "base_uri": "https://localhost:8080/"
        },
        "id": "mm9r0KFwbR4t",
        "outputId": "3ad2e73c-c4a8-4e08-f2b9-14d55e467476"
      },
      "execution_count": 67,
      "outputs": [
        {
          "output_type": "stream",
          "name": "stdout",
          "text": [
            "Trial 5 Complete [00h 00m 03s]\n",
            "val_accuracy: 0.798701286315918\n",
            "\n",
            "Best val_accuracy So Far: 0.798701286315918\n",
            "Total elapsed time: 00h 00m 13s\n"
          ]
        }
      ]
    },
    {
      "cell_type": "code",
      "source": [
        "tuner.get_best_hyperparameters()[0].values"
      ],
      "metadata": {
        "colab": {
          "base_uri": "https://localhost:8080/"
        },
        "id": "PiUy9rK4bSB9",
        "outputId": "fa70324a-6a68-4b5e-c5e8-d81ed9d6d444"
      },
      "execution_count": 68,
      "outputs": [
        {
          "output_type": "execute_result",
          "data": {
            "text/plain": [
              "{'num_layers': 4,\n",
              " 'units0': 104,\n",
              " 'activation0': 'sigmoid',\n",
              " 'optimizer': 'adam',\n",
              " 'units1': 96,\n",
              " 'activation1': 'tanh',\n",
              " 'units2': 64,\n",
              " 'activation2': 'tanh',\n",
              " 'units3': 80,\n",
              " 'activation3': 'tanh',\n",
              " 'units4': 112,\n",
              " 'activation4': 'sigmoid',\n",
              " 'units5': 24,\n",
              " 'activation5': 'tanh'}"
            ]
          },
          "metadata": {},
          "execution_count": 68
        }
      ]
    },
    {
      "cell_type": "code",
      "source": [
        "model = tuner.get_best_models(num_models=1)[0]"
      ],
      "metadata": {
        "id": "_QaiHI1LbSMc"
      },
      "execution_count": 69,
      "outputs": []
    },
    {
      "cell_type": "code",
      "source": [
        "model.summary()"
      ],
      "metadata": {
        "colab": {
          "base_uri": "https://localhost:8080/"
        },
        "id": "mSRlRYP0bSZU",
        "outputId": "79c4e4ac-d8dd-4ec6-b6d4-dee54d6f2529"
      },
      "execution_count": 70,
      "outputs": [
        {
          "output_type": "stream",
          "name": "stdout",
          "text": [
            "Model: \"sequential\"\n",
            "_________________________________________________________________\n",
            " Layer (type)                Output Shape              Param #   \n",
            "=================================================================\n",
            " dense (Dense)               (None, 104)               936       \n",
            "                                                                 \n",
            " dense_1 (Dense)             (None, 96)                10080     \n",
            "                                                                 \n",
            " dense_2 (Dense)             (None, 64)                6208      \n",
            "                                                                 \n",
            " dense_3 (Dense)             (None, 80)                5200      \n",
            "                                                                 \n",
            " dense_4 (Dense)             (None, 1)                 81        \n",
            "                                                                 \n",
            "=================================================================\n",
            "Total params: 22505 (87.91 KB)\n",
            "Trainable params: 22505 (87.91 KB)\n",
            "Non-trainable params: 0 (0.00 Byte)\n",
            "_________________________________________________________________\n"
          ]
        }
      ]
    },
    {
      "cell_type": "code",
      "source": [
        "model.fit(X_train,Y_train,batch_size=32,epochs=60,initial_epoch=5,validation_data = (X_test,Y_test))"
      ],
      "metadata": {
        "colab": {
          "base_uri": "https://localhost:8080/"
        },
        "id": "TLtNRV1ugvkV",
        "outputId": "d1ee138a-744c-41ec-ae7e-44610dba437f"
      },
      "execution_count": 71,
      "outputs": [
        {
          "output_type": "stream",
          "name": "stdout",
          "text": [
            "Epoch 6/60\n",
            "20/20 [==============================] - 1s 15ms/step - loss: 0.4931 - accuracy: 0.7590 - val_loss: 0.4847 - val_accuracy: 0.8117\n",
            "Epoch 7/60\n",
            "20/20 [==============================] - 0s 5ms/step - loss: 0.4768 - accuracy: 0.7834 - val_loss: 0.5054 - val_accuracy: 0.7857\n",
            "Epoch 8/60\n",
            "20/20 [==============================] - 0s 5ms/step - loss: 0.4840 - accuracy: 0.7687 - val_loss: 0.5328 - val_accuracy: 0.7338\n",
            "Epoch 9/60\n",
            "20/20 [==============================] - 0s 6ms/step - loss: 0.5129 - accuracy: 0.7443 - val_loss: 0.4887 - val_accuracy: 0.8117\n",
            "Epoch 10/60\n",
            "20/20 [==============================] - 0s 5ms/step - loss: 0.4824 - accuracy: 0.7622 - val_loss: 0.4822 - val_accuracy: 0.7662\n",
            "Epoch 11/60\n",
            "20/20 [==============================] - 0s 4ms/step - loss: 0.5069 - accuracy: 0.7638 - val_loss: 0.4861 - val_accuracy: 0.7727\n",
            "Epoch 12/60\n",
            "20/20 [==============================] - 0s 5ms/step - loss: 0.4787 - accuracy: 0.7720 - val_loss: 0.4688 - val_accuracy: 0.7727\n",
            "Epoch 13/60\n",
            "20/20 [==============================] - 0s 5ms/step - loss: 0.4791 - accuracy: 0.7687 - val_loss: 0.4703 - val_accuracy: 0.7922\n",
            "Epoch 14/60\n",
            "20/20 [==============================] - 0s 5ms/step - loss: 0.4723 - accuracy: 0.7704 - val_loss: 0.4797 - val_accuracy: 0.7922\n",
            "Epoch 15/60\n",
            "20/20 [==============================] - 0s 5ms/step - loss: 0.4841 - accuracy: 0.7687 - val_loss: 0.4717 - val_accuracy: 0.7857\n",
            "Epoch 16/60\n",
            "20/20 [==============================] - 0s 5ms/step - loss: 0.4733 - accuracy: 0.7899 - val_loss: 0.4707 - val_accuracy: 0.7662\n",
            "Epoch 17/60\n",
            "20/20 [==============================] - 0s 5ms/step - loss: 0.4717 - accuracy: 0.7671 - val_loss: 0.4743 - val_accuracy: 0.7857\n",
            "Epoch 18/60\n",
            "20/20 [==============================] - 0s 6ms/step - loss: 0.4811 - accuracy: 0.7687 - val_loss: 0.4808 - val_accuracy: 0.7792\n",
            "Epoch 19/60\n",
            "20/20 [==============================] - 0s 4ms/step - loss: 0.4641 - accuracy: 0.7752 - val_loss: 0.4895 - val_accuracy: 0.7857\n",
            "Epoch 20/60\n",
            "20/20 [==============================] - 0s 5ms/step - loss: 0.4761 - accuracy: 0.7769 - val_loss: 0.4721 - val_accuracy: 0.7792\n",
            "Epoch 21/60\n",
            "20/20 [==============================] - 0s 5ms/step - loss: 0.4912 - accuracy: 0.7638 - val_loss: 0.5357 - val_accuracy: 0.7597\n",
            "Epoch 22/60\n",
            "20/20 [==============================] - 0s 4ms/step - loss: 0.5208 - accuracy: 0.7264 - val_loss: 0.5230 - val_accuracy: 0.7662\n",
            "Epoch 23/60\n",
            "20/20 [==============================] - 0s 6ms/step - loss: 0.4833 - accuracy: 0.7834 - val_loss: 0.4629 - val_accuracy: 0.7792\n",
            "Epoch 24/60\n",
            "20/20 [==============================] - 0s 4ms/step - loss: 0.4763 - accuracy: 0.7801 - val_loss: 0.4771 - val_accuracy: 0.7792\n",
            "Epoch 25/60\n",
            "20/20 [==============================] - 0s 5ms/step - loss: 0.4696 - accuracy: 0.7687 - val_loss: 0.4737 - val_accuracy: 0.7857\n",
            "Epoch 26/60\n",
            "20/20 [==============================] - 0s 4ms/step - loss: 0.4677 - accuracy: 0.7687 - val_loss: 0.4744 - val_accuracy: 0.7727\n",
            "Epoch 27/60\n",
            "20/20 [==============================] - 0s 7ms/step - loss: 0.4697 - accuracy: 0.7671 - val_loss: 0.4701 - val_accuracy: 0.7792\n",
            "Epoch 28/60\n",
            "20/20 [==============================] - 0s 8ms/step - loss: 0.4653 - accuracy: 0.7687 - val_loss: 0.4712 - val_accuracy: 0.7792\n",
            "Epoch 29/60\n",
            "20/20 [==============================] - 0s 8ms/step - loss: 0.4680 - accuracy: 0.7736 - val_loss: 0.4715 - val_accuracy: 0.7922\n",
            "Epoch 30/60\n",
            "20/20 [==============================] - 0s 7ms/step - loss: 0.4720 - accuracy: 0.7606 - val_loss: 0.4692 - val_accuracy: 0.8052\n",
            "Epoch 31/60\n",
            "20/20 [==============================] - 0s 7ms/step - loss: 0.4704 - accuracy: 0.7606 - val_loss: 0.4822 - val_accuracy: 0.7922\n",
            "Epoch 32/60\n",
            "20/20 [==============================] - 0s 7ms/step - loss: 0.4798 - accuracy: 0.7769 - val_loss: 0.4968 - val_accuracy: 0.7857\n",
            "Epoch 33/60\n",
            "20/20 [==============================] - 0s 7ms/step - loss: 0.4764 - accuracy: 0.7687 - val_loss: 0.4627 - val_accuracy: 0.7922\n",
            "Epoch 34/60\n",
            "20/20 [==============================] - 0s 7ms/step - loss: 0.4615 - accuracy: 0.7655 - val_loss: 0.4659 - val_accuracy: 0.7727\n",
            "Epoch 35/60\n",
            "20/20 [==============================] - 0s 7ms/step - loss: 0.4664 - accuracy: 0.7655 - val_loss: 0.4644 - val_accuracy: 0.7922\n",
            "Epoch 36/60\n",
            "20/20 [==============================] - 0s 7ms/step - loss: 0.4595 - accuracy: 0.7850 - val_loss: 0.4709 - val_accuracy: 0.8117\n",
            "Epoch 37/60\n",
            "20/20 [==============================] - 0s 7ms/step - loss: 0.4727 - accuracy: 0.7655 - val_loss: 0.4654 - val_accuracy: 0.7857\n",
            "Epoch 38/60\n",
            "20/20 [==============================] - 0s 8ms/step - loss: 0.4633 - accuracy: 0.7720 - val_loss: 0.4627 - val_accuracy: 0.7857\n",
            "Epoch 39/60\n",
            "20/20 [==============================] - 0s 8ms/step - loss: 0.4687 - accuracy: 0.7720 - val_loss: 0.4604 - val_accuracy: 0.7922\n",
            "Epoch 40/60\n",
            "20/20 [==============================] - 0s 8ms/step - loss: 0.4644 - accuracy: 0.7752 - val_loss: 0.4743 - val_accuracy: 0.7922\n",
            "Epoch 41/60\n",
            "20/20 [==============================] - 0s 8ms/step - loss: 0.4721 - accuracy: 0.7655 - val_loss: 0.4692 - val_accuracy: 0.7922\n",
            "Epoch 42/60\n",
            "20/20 [==============================] - 0s 8ms/step - loss: 0.4671 - accuracy: 0.7704 - val_loss: 0.4631 - val_accuracy: 0.7792\n",
            "Epoch 43/60\n",
            "20/20 [==============================] - 0s 9ms/step - loss: 0.4613 - accuracy: 0.7606 - val_loss: 0.4690 - val_accuracy: 0.7987\n",
            "Epoch 44/60\n",
            "20/20 [==============================] - 0s 8ms/step - loss: 0.4804 - accuracy: 0.7492 - val_loss: 0.4598 - val_accuracy: 0.8052\n",
            "Epoch 45/60\n",
            "20/20 [==============================] - 0s 4ms/step - loss: 0.4557 - accuracy: 0.7720 - val_loss: 0.4592 - val_accuracy: 0.7857\n",
            "Epoch 46/60\n",
            "20/20 [==============================] - 0s 5ms/step - loss: 0.4571 - accuracy: 0.7785 - val_loss: 0.4630 - val_accuracy: 0.8117\n",
            "Epoch 47/60\n",
            "20/20 [==============================] - 0s 5ms/step - loss: 0.4624 - accuracy: 0.7818 - val_loss: 0.5091 - val_accuracy: 0.7792\n",
            "Epoch 48/60\n",
            "20/20 [==============================] - 0s 5ms/step - loss: 0.4745 - accuracy: 0.7785 - val_loss: 0.4639 - val_accuracy: 0.7857\n",
            "Epoch 49/60\n",
            "20/20 [==============================] - 0s 6ms/step - loss: 0.4523 - accuracy: 0.7785 - val_loss: 0.4696 - val_accuracy: 0.7987\n",
            "Epoch 50/60\n",
            "20/20 [==============================] - 0s 5ms/step - loss: 0.4542 - accuracy: 0.7850 - val_loss: 0.4664 - val_accuracy: 0.7857\n",
            "Epoch 51/60\n",
            "20/20 [==============================] - 0s 5ms/step - loss: 0.4542 - accuracy: 0.7687 - val_loss: 0.4658 - val_accuracy: 0.7922\n",
            "Epoch 52/60\n",
            "20/20 [==============================] - 0s 6ms/step - loss: 0.4510 - accuracy: 0.7785 - val_loss: 0.4648 - val_accuracy: 0.7792\n",
            "Epoch 53/60\n",
            "20/20 [==============================] - 0s 5ms/step - loss: 0.4699 - accuracy: 0.7671 - val_loss: 0.4779 - val_accuracy: 0.7792\n",
            "Epoch 54/60\n",
            "20/20 [==============================] - 0s 6ms/step - loss: 0.4568 - accuracy: 0.7801 - val_loss: 0.4587 - val_accuracy: 0.7922\n",
            "Epoch 55/60\n",
            "20/20 [==============================] - 0s 5ms/step - loss: 0.4634 - accuracy: 0.7785 - val_loss: 0.4779 - val_accuracy: 0.7792\n",
            "Epoch 56/60\n",
            "20/20 [==============================] - 0s 5ms/step - loss: 0.4580 - accuracy: 0.7687 - val_loss: 0.4631 - val_accuracy: 0.8117\n",
            "Epoch 57/60\n",
            "20/20 [==============================] - 0s 5ms/step - loss: 0.4680 - accuracy: 0.7720 - val_loss: 0.4659 - val_accuracy: 0.7727\n",
            "Epoch 58/60\n",
            "20/20 [==============================] - 0s 6ms/step - loss: 0.4558 - accuracy: 0.7801 - val_loss: 0.4601 - val_accuracy: 0.7922\n",
            "Epoch 59/60\n",
            "20/20 [==============================] - 0s 5ms/step - loss: 0.4621 - accuracy: 0.7801 - val_loss: 0.4730 - val_accuracy: 0.7922\n",
            "Epoch 60/60\n",
            "20/20 [==============================] - 0s 6ms/step - loss: 0.4635 - accuracy: 0.7720 - val_loss: 0.4635 - val_accuracy: 0.8052\n"
          ]
        },
        {
          "output_type": "execute_result",
          "data": {
            "text/plain": [
              "<keras.src.callbacks.History at 0x7d2f68b16b30>"
            ]
          },
          "metadata": {},
          "execution_count": 71
        }
      ]
    }
  ]
}